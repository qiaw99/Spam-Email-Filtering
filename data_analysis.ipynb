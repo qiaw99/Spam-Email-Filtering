{
 "cells": [
  {
   "cell_type": "code",
   "execution_count": 1,
   "id": "f69a13d5",
   "metadata": {
    "ExecuteTime": {
     "end_time": "2022-06-20T12:37:11.062998Z",
     "start_time": "2022-06-20T12:37:10.125010Z"
    }
   },
   "outputs": [],
   "source": [
    "import pandas as pd \n",
    "import numpy as np\n",
    "import collections\n",
    "import matplotlib.pyplot as plt"
   ]
  },
  {
   "cell_type": "markdown",
   "id": "97e64ff0",
   "metadata": {},
   "source": [
    "## Data analysis\n",
    "We have explore four various aspects of the data:\n",
    "- The data distribution of spam/ham emails\n",
    "- Top 10 words and all unique words that occur in the input data \n",
    "- The average length of sentences from spam/ham emails\n",
    "- Detect all punctuation that occur"
   ]
  },
  {
   "cell_type": "markdown",
   "id": "7fa5bcb1",
   "metadata": {},
   "source": [
    "_The reason why we use 2 different approaches to read the csv file is that we find out there are only 5728 records while it is announced that there are 5730 records. We would like to see wether it is caused by pandas package or not._ The problem is 2 of sentences from the csv file are so long that in csv file it is splitted into 2 rows automatically. It happens in rows 1382 and 2654."
   ]
  },
  {
   "cell_type": "code",
   "execution_count": 2,
   "id": "53b12f5a",
   "metadata": {
    "ExecuteTime": {
     "end_time": "2022-06-20T12:37:11.203454Z",
     "start_time": "2022-06-20T12:37:11.065004Z"
    },
    "scrolled": true
   },
   "outputs": [
    {
     "name": "stdout",
     "output_type": "stream",
     "text": [
      "['text', 'spam']\n"
     ]
    },
    {
     "data": {
      "text/plain": [
       "5728"
      ]
     },
     "execution_count": 2,
     "metadata": {},
     "output_type": "execute_result"
    }
   ],
   "source": [
    "import csv\n",
    "\n",
    "file = open('./data/Spam_Emails.csv')\n",
    "csvreader = csv.reader(file)\n",
    "header = []\n",
    "header = next(csvreader)\n",
    "print(header)\n",
    "rows = []\n",
    "stat = []\n",
    "for row in csvreader:\n",
    "    rows.append(row)\n",
    "    stat.append(csvreader.line_num)\n",
    "len(rows)"
   ]
  },
  {
   "cell_type": "code",
   "execution_count": 3,
   "id": "9e742e64",
   "metadata": {
    "ExecuteTime": {
     "end_time": "2022-06-20T12:37:11.218891Z",
     "start_time": "2022-06-20T12:37:11.204459Z"
    }
   },
   "outputs": [],
   "source": [
    "\"\"\" \n",
    "Read data in .csv format\n",
    "\n",
    "Input:\n",
    "filename: the given path to the file\n",
    "\n",
    "Output:\n",
    "X, y: sentences, class(0/1)\n",
    "\"\"\"\n",
    "\n",
    "def readData(filename):\n",
    "    df = pd.read_csv(filename)\n",
    "    X = []\n",
    "    y = []\n",
    "    print(len(df))\n",
    "    for i in range(len(df)):\n",
    "        sentence = df.iloc[i, 0]\n",
    "        \n",
    "        # The actual sentences\n",
    "        _class = df.iloc[i, 1]\n",
    "\n",
    "        X.append(sentence)\n",
    "        y.append(_class)\n",
    "    return X, y"
   ]
  },
  {
   "cell_type": "code",
   "execution_count": 4,
   "id": "0647fc38",
   "metadata": {
    "ExecuteTime": {
     "end_time": "2022-06-20T12:37:11.470437Z",
     "start_time": "2022-06-20T12:37:11.219835Z"
    }
   },
   "outputs": [
    {
     "name": "stdout",
     "output_type": "stream",
     "text": [
      "5728\n"
     ]
    }
   ],
   "source": [
    "X, y = readData(\"./data/Spam_Emails.csv\")"
   ]
  },
  {
   "cell_type": "code",
   "execution_count": 5,
   "id": "d26f76d6",
   "metadata": {
    "ExecuteTime": {
     "end_time": "2022-06-20T12:37:11.486153Z",
     "start_time": "2022-06-20T12:37:11.472441Z"
    }
   },
   "outputs": [
    {
     "name": "stdout",
     "output_type": "stream",
     "text": [
      "5728\n",
      "5728\n",
      "[\"Subject: naturally irresistible your corporate identity  lt is really hard to recollect a company : the  market is full of suqgestions and the information isoverwhelminq ; but a good  catchy logo , stylish statlonery and outstanding website  will make the task much easier .  we do not promise that havinq ordered a iogo your  company will automaticaily become a world ieader : it isguite ciear that  without good products , effective business organization and practicable aim it  will be hotat nowadays market ; but we do promise that your marketing efforts  will become much more effective . here is the list of clear  benefits : creativeness : hand - made , original logos , specially done  to reflect your distinctive company image . convenience : logo and stationery  are provided in all formats ; easy - to - use content management system letsyou  change your website content and even its structure . promptness : you  will see logo drafts within three business days . affordability : your  marketing break - through shouldn ' t make gaps in your budget . 100 % satisfaction  guaranteed : we provide unlimited amount of changes with no extra fees for you to  be surethat you will love the result of this collaboration . have a look at our  portfolio _ _ _ _ _ _ _ _ _ _ _ _ _ _ _ _ _ _ _ _ _ _ _ _ _ _ _ _ _ _ _ _ _ _ _ _ _ _ _ _ _ _ _ _ _ _ _ _ _ _ _ _ not interested . . . _ _ _ _ _ _ _ _ _ _ _ _ _ _ _ _ _ _ _ _ _ _ _ _ _ _ _ _ _ _ _ _ _ _ _ _ _ _ _ _ _ _ _ _ _ _ _ _ _ _ _ _\", 'Subject: the stock trading gunslinger  fanny is merrill but muzo not colza attainder and penultimate like esmark perspicuous ramble is segovia not group try slung kansas tanzania yes chameleon or continuant clothesman no  libretto is chesapeake but tight not waterway herald and hawthorn like chisel morristown superior is deoxyribonucleic not clockwork try hall incredible mcdougall yes hepburn or einsteinian earmark no  sapling is boar but duane not plain palfrey and inflexible like huzzah pepperoni bedtime is nameable not attire try edt chronography optima yes pirogue or diffusion albeit no ', 'Subject: unbelievable new homes made easy  im wanting to show you this  homeowner  you have been pre - approved for a $ 454 , 169 home loan at a 3 . 72 fixed rate .  this offer is being extended to you unconditionally and your credit is in no way a factor .  to take advantage of this limited time opportunity  all we ask is that you visit our website and complete  the 1 minute post approval form  look foward to hearing from you ,  dorcas pittman', 'Subject: 4 color printing special  request additional information now ! click here  click here for a printable version of our order form ( pdf format )  phone : ( 626 ) 338 - 8090 fax : ( 626 ) 338 - 8102 e - mail : ramsey @ goldengraphix . com  request additional information now ! click here  click here for a printable version of our order form ( pdf format )  golden graphix & printing 5110 azusa canyon rd . irwindale , ca 91706 this e - mail message is an advertisement and / or solicitation . ', \"Subject: do not have money , get software cds from here !  software compatibility . . . . ain ' t it great ?  grow old along with me the best is yet to be .  all tradgedies are finish ' d by death . all comedies are ended by marriage .\"]\n"
     ]
    }
   ],
   "source": [
    "print(len(X))\n",
    "print(len(y))\n",
    "print(X[:5])"
   ]
  },
  {
   "cell_type": "code",
   "execution_count": 6,
   "id": "d352fdda",
   "metadata": {
    "ExecuteTime": {
     "end_time": "2022-06-20T12:37:11.501853Z",
     "start_time": "2022-06-20T12:37:11.488154Z"
    }
   },
   "outputs": [],
   "source": [
    "y = np.array(y)"
   ]
  },
  {
   "cell_type": "code",
   "execution_count": 7,
   "id": "d7cdf7aa",
   "metadata": {
    "ExecuteTime": {
     "end_time": "2022-06-20T12:37:11.517600Z",
     "start_time": "2022-06-20T12:37:11.502859Z"
    }
   },
   "outputs": [
    {
     "name": "stdout",
     "output_type": "stream",
     "text": [
      "Counter({0: 4360, 1: 1368})\n"
     ]
    }
   ],
   "source": [
    "# Count each class individually \n",
    "counter = collections.Counter(y)\n",
    "print(counter)"
   ]
  },
  {
   "cell_type": "code",
   "execution_count": 8,
   "id": "40cbcc30",
   "metadata": {
    "ExecuteTime": {
     "end_time": "2022-06-20T12:37:11.595170Z",
     "start_time": "2022-06-20T12:37:11.518841Z"
    }
   },
   "outputs": [
    {
     "data": {
      "image/png": "[encoded data removed]",
      "text/plain": [
       "<Figure size 432x288 with 1 Axes>"
      ]
     },
     "metadata": {
      "needs_background": "light"
     },
     "output_type": "display_data"
    }
   ],
   "source": [
    "class_list = np.array([0, 1])\n",
    "counter = np.array([4360, 1368])\n",
    "\n",
    "\n",
    "plt.bar(range(len(counter)), counter, color=['r', 'g', 'b'], width=0.2, tick_label=class_list,  ec='b', ls='--', lw=2)\n",
    "plt.title(\"Data distribution\")\n",
    "plt.show()"
   ]
  },
  {
   "cell_type": "code",
   "execution_count": 9,
   "id": "0b19104a",
   "metadata": {
    "ExecuteTime": {
     "end_time": "2022-06-20T12:37:13.136089Z",
     "start_time": "2022-06-20T12:37:11.597172Z"
    }
   },
   "outputs": [],
   "source": [
    "import copy\n",
    "\n",
    "'''\n",
    "Flatten the input array\n",
    "'''\n",
    "def flatten_input(X):\n",
    "    X_copy = copy.copy(X)\n",
    "    concatenate_string = \"\"\n",
    "    for i in range(len(X_copy)):\n",
    "        concatenate_string += X_copy[i]\n",
    "    return concatenate_string, X_copy\n",
    "\n",
    "concatenate_string, X_copy = flatten_input(X)"
   ]
  },
  {
   "cell_type": "code",
   "execution_count": 10,
   "id": "05fd2dd0",
   "metadata": {
    "ExecuteTime": {
     "end_time": "2022-06-20T12:37:13.578550Z",
     "start_time": "2022-06-20T12:37:13.137044Z"
    }
   },
   "outputs": [
    {
     "name": "stdout",
     "output_type": "stream",
     "text": [
      "Punctuation: :\n",
      "Punctuation: ;\n",
      "Punctuation: ,\n",
      "Punctuation: .\n",
      "Punctuation: -\n",
      "Punctuation: '\n",
      "Punctuation: %\n",
      "Punctuation: _\n",
      "Punctuation: $\n",
      "Punctuation: !\n",
      "Punctuation: (\n",
      "Punctuation: )\n",
      "Punctuation: @\n",
      "Punctuation: &\n",
      "Punctuation: /\n",
      "Punctuation: ?\n",
      "Punctuation: |\n",
      "Punctuation: *\n",
      "Punctuation: \"\n",
      "Punctuation: +\n",
      "Punctuation: =\n",
      "Punctuation: >\n",
      "Punctuation: #\n",
      "Punctuation: [\n",
      "Punctuation: ]\n",
      "Punctuation: ^\n",
      "Punctuation: }\n",
      "Punctuation: <\n",
      "Punctuation: ~\n",
      "Punctuation: \\\n",
      "Punctuation: `\n",
      "Punctuation: {\n"
     ]
    }
   ],
   "source": [
    "import string \n",
    "\n",
    "'''\n",
    "Detect all punctuation that occur in the input data\n",
    "'''\n",
    "def detect_punctuations(concatenate_string):\n",
    "    result = string.punctuation \n",
    "    punctuation = []\n",
    "    for i in concatenate_string:\n",
    "\n",
    "        # checking whether the char is punctuation.\n",
    "        if i in string.punctuation:\n",
    "            if i not in punctuation:\n",
    "                punctuation.append(i)\n",
    "                # Printing the punctuation values \n",
    "                print(\"Punctuation: \" + i)\n",
    "    return punctuation\n",
    "                \n",
    "punctuation = detect_punctuations(concatenate_string)"
   ]
  },
  {
   "cell_type": "code",
   "execution_count": 11,
   "id": "c2e7d36a",
   "metadata": {
    "ExecuteTime": {
     "end_time": "2022-06-20T12:37:13.594542Z",
     "start_time": "2022-06-20T12:37:13.579555Z"
    }
   },
   "outputs": [
    {
     "name": "stdout",
     "output_type": "stream",
     "text": [
      "32\n",
      "[':', ';', ',', '.', '-', \"'\", '%', '_', '$', '!', '(', ')', '@', '&', '/', '?', '|', '*', '\"', '+', '=', '>', '#', '[', ']', '^', '}', '<', '~', '\\\\', '`', '{']\n"
     ]
    }
   ],
   "source": [
    "print(len(punctuation))\n",
    "print(punctuation)"
   ]
  },
  {
   "cell_type": "code",
   "execution_count": 12,
   "id": "6362de29",
   "metadata": {
    "ExecuteTime": {
     "end_time": "2022-06-20T12:37:14.235977Z",
     "start_time": "2022-06-20T12:37:13.596275Z"
    }
   },
   "outputs": [],
   "source": [
    "'''\n",
    "Remove all punctuations\n",
    "'''\n",
    "def remove_punctuations(concatenate_string):\n",
    "    new_words = []\n",
    "    for word in concatenate_string.split():\n",
    "        for letter in word:\n",
    "            if letter in string.punctuation:\n",
    "                word = word.replace(letter,\"\")   \n",
    "        new_words.append(word)\n",
    "    return new_words\n",
    "\n",
    "new_words = remove_punctuations(concatenate_string)"
   ]
  },
  {
   "cell_type": "code",
   "execution_count": 13,
   "id": "013552d4",
   "metadata": {
    "ExecuteTime": {
     "end_time": "2022-06-20T12:37:14.423998Z",
     "start_time": "2022-06-20T12:37:14.237590Z"
    }
   },
   "outputs": [
    {
     "name": "stdout",
     "output_type": "stream",
     "text": [
      "[('', 475161), ('the', 50110), ('to', 41734), ('and', 27478), ('of', 23757), ('a', 19943), ('you', 19149), ('in', 17972), ('i', 17421), ('for', 16696)]\n"
     ]
    }
   ],
   "source": [
    "'''\n",
    "Count top 10 words that occur in the input data and unique words\n",
    "'''\n",
    "counter = collections.Counter(new_words)\n",
    "print(counter.most_common(10))"
   ]
  },
  {
   "cell_type": "code",
   "execution_count": 14,
   "id": "eccdb03f",
   "metadata": {
    "ExecuteTime": {
     "end_time": "2022-06-20T12:37:14.440003Z",
     "start_time": "2022-06-20T12:37:14.424998Z"
    }
   },
   "outputs": [],
   "source": [
    "def calculate_sentence_length(X_copy):\n",
    "    first_class_length = []\n",
    "    second_class_length = []\n",
    "    for i in range(4360):\n",
    "        first_class_length.append(len(X_copy[i]))\n",
    "    for i in X_copy[4360:]:\n",
    "        second_class_length.append(len(i))\n",
    "    return first_class_length, second_class_length\n",
    "\n",
    "first_class_length, second_class_length = calculate_sentence_length(X_copy)"
   ]
  },
  {
   "cell_type": "code",
   "execution_count": 15,
   "id": "1ba9bd4c",
   "metadata": {
    "ExecuteTime": {
     "end_time": "2022-06-20T12:37:14.456004Z",
     "start_time": "2022-06-20T12:37:14.441011Z"
    }
   },
   "outputs": [],
   "source": [
    "data = [-1, -1]\n",
    "data[0] = round(sum(first_class_length)/len(first_class_length), 2)\n",
    "data[1] = round(sum(second_class_length)/len(second_class_length),2)"
   ]
  },
  {
   "cell_type": "code",
   "execution_count": 16,
   "id": "6f769dc8",
   "metadata": {
    "ExecuteTime": {
     "end_time": "2022-06-20T12:37:14.583104Z",
     "start_time": "2022-06-20T12:37:14.457009Z"
    }
   },
   "outputs": [
    {
     "data": {
      "image/png": "[encoded data removed]",
      "text/plain": [
       "<Figure size 432x288 with 1 Axes>"
      ]
     },
     "metadata": {
      "needs_background": "light"
     },
     "output_type": "display_data"
    }
   ],
   "source": [
    "class_list = np.array([0, 1])\n",
    "\n",
    "plt.bar(range(len(data)), data, color=['r', 'g', 'b'], width=0.2, tick_label=class_list,  ec='b', ls='--', lw=2)\n",
    "plt.title(\"Data average length\")\n",
    "plt.show()"
   ]
  },
  {
   "cell_type": "code",
   "execution_count": null,
   "id": "15aecb7c",
   "metadata": {},
   "outputs": [],
   "source": []
  }
 ],
 "metadata": {
  "kernelspec": {
   "display_name": "Python 3 (ipykernel)",
   "language": "python",
   "name": "python3"
  },
  "language_info": {
   "codemirror_mode": {
    "name": "ipython",
    "version": 3
   },
   "file_extension": ".py",
   "mimetype": "text/x-python",
   "name": "python",
   "nbconvert_exporter": "python",
   "pygments_lexer": "ipython3",
   "version": "3.7.0"
  },
  "latex_envs": {
   "LaTeX_envs_menu_present": true,
   "autoclose": false,
   "autocomplete": true,
   "bibliofile": "biblio.bib",
   "cite_by": "apalike",
   "current_citInitial": 1,
   "eqLabelWithNumbers": true,
   "eqNumInitial": 1,
   "hotkeys": {
    "equation": "Ctrl-E",
    "itemize": "Ctrl-I"
   },
   "labels_anchors": false,
   "latex_user_defs": false,
   "report_style_numbering": false,
   "user_envs_cfg": false
  }
 },
 "nbformat": 4,
 "nbformat_minor": 5
}
