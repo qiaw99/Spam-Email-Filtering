{
 "cells": [
  {
   "cell_type": "code",
   "execution_count": 1,
   "id": "ba5ad969",
   "metadata": {
    "ExecuteTime": {
     "end_time": "2022-06-20T15:33:31.081361Z",
     "start_time": "2022-06-20T15:33:28.331742Z"
    }
   },
   "outputs": [],
   "source": [
    "import numpy as np\n",
    "import gensim\n",
    "import tensorflow as tf"
   ]
  },
  {
   "cell_type": "code",
   "execution_count": 2,
   "id": "645e20a6",
   "metadata": {
    "ExecuteTime": {
     "end_time": "2022-06-20T15:33:37.461940Z",
     "start_time": "2022-06-20T15:33:31.083365Z"
    }
   },
   "outputs": [
    {
     "name": "stdout",
     "output_type": "stream",
     "text": [
      "['text', 'spam']\n",
      "5728\n",
      "5728\n",
      "5728\n",
      "[\"Subject: naturally irresistible your corporate identity  lt is really hard to recollect a company : the  market is full of suqgestions and the information isoverwhelminq ; but a good  catchy logo , stylish statlonery and outstanding website  will make the task much easier .  we do not promise that havinq ordered a iogo your  company will automaticaily become a world ieader : it isguite ciear that  without good products , effective business organization and practicable aim it  will be hotat nowadays market ; but we do promise that your marketing efforts  will become much more effective . here is the list of clear  benefits : creativeness : hand - made , original logos , specially done  to reflect your distinctive company image . convenience : logo and stationery  are provided in all formats ; easy - to - use content management system letsyou  change your website content and even its structure . promptness : you  will see logo drafts within three business days . affordability : your  marketing break - through shouldn ' t make gaps in your budget . 100 % satisfaction  guaranteed : we provide unlimited amount of changes with no extra fees for you to  be surethat you will love the result of this collaboration . have a look at our  portfolio _ _ _ _ _ _ _ _ _ _ _ _ _ _ _ _ _ _ _ _ _ _ _ _ _ _ _ _ _ _ _ _ _ _ _ _ _ _ _ _ _ _ _ _ _ _ _ _ _ _ _ _ not interested . . . _ _ _ _ _ _ _ _ _ _ _ _ _ _ _ _ _ _ _ _ _ _ _ _ _ _ _ _ _ _ _ _ _ _ _ _ _ _ _ _ _ _ _ _ _ _ _ _ _ _ _ _\", 'Subject: the stock trading gunslinger  fanny is merrill but muzo not colza attainder and penultimate like esmark perspicuous ramble is segovia not group try slung kansas tanzania yes chameleon or continuant clothesman no  libretto is chesapeake but tight not waterway herald and hawthorn like chisel morristown superior is deoxyribonucleic not clockwork try hall incredible mcdougall yes hepburn or einsteinian earmark no  sapling is boar but duane not plain palfrey and inflexible like huzzah pepperoni bedtime is nameable not attire try edt chronography optima yes pirogue or diffusion albeit no ', 'Subject: unbelievable new homes made easy  im wanting to show you this  homeowner  you have been pre - approved for a $ 454 , 169 home loan at a 3 . 72 fixed rate .  this offer is being extended to you unconditionally and your credit is in no way a factor .  to take advantage of this limited time opportunity  all we ask is that you visit our website and complete  the 1 minute post approval form  look foward to hearing from you ,  dorcas pittman', 'Subject: 4 color printing special  request additional information now ! click here  click here for a printable version of our order form ( pdf format )  phone : ( 626 ) 338 - 8090 fax : ( 626 ) 338 - 8102 e - mail : ramsey @ goldengraphix . com  request additional information now ! click here  click here for a printable version of our order form ( pdf format )  golden graphix & printing 5110 azusa canyon rd . irwindale , ca 91706 this e - mail message is an advertisement and / or solicitation . ', \"Subject: do not have money , get software cds from here !  software compatibility . . . . ain ' t it great ?  grow old along with me the best is yet to be .  all tradgedies are finish ' d by death . all comedies are ended by marriage .\"]\n",
      "Counter({0: 4360, 1: 1368})\n"
     ]
    },
    {
     "data": {
      "image/png": "[encoded data removed]",
      "text/plain": [
       "<Figure size 432x288 with 1 Axes>"
      ]
     },
     "metadata": {
      "needs_background": "light"
     },
     "output_type": "display_data"
    },
    {
     "name": "stdout",
     "output_type": "stream",
     "text": [
      "Punctuation: :\n",
      "Punctuation: ;\n",
      "Punctuation: ,\n",
      "Punctuation: .\n",
      "Punctuation: -\n",
      "Punctuation: '\n",
      "Punctuation: %\n",
      "Punctuation: _\n",
      "Punctuation: $\n",
      "Punctuation: !\n",
      "Punctuation: (\n",
      "Punctuation: )\n",
      "Punctuation: @\n",
      "Punctuation: &\n",
      "Punctuation: /\n",
      "Punctuation: ?\n",
      "Punctuation: |\n",
      "Punctuation: *\n",
      "Punctuation: \"\n",
      "Punctuation: +\n",
      "Punctuation: =\n",
      "Punctuation: >\n",
      "Punctuation: #\n",
      "Punctuation: [\n",
      "Punctuation: ]\n",
      "Punctuation: ^\n",
      "Punctuation: }\n",
      "Punctuation: <\n",
      "Punctuation: ~\n",
      "Punctuation: \\\n",
      "Punctuation: `\n",
      "Punctuation: {\n",
      "32\n",
      "[':', ';', ',', '.', '-', \"'\", '%', '_', '$', '!', '(', ')', '@', '&', '/', '?', '|', '*', '\"', '+', '=', '>', '#', '[', ']', '^', '}', '<', '~', '\\\\', '`', '{']\n",
      "[('', 475161), ('the', 50110), ('to', 41734), ('and', 27478), ('of', 23757), ('a', 19943), ('you', 19149), ('in', 17972), ('i', 17421), ('for', 16696)]\n"
     ]
    },
    {
     "data": {
      "image/png": "[encoded data removed]",
      "text/plain": [
       "<Figure size 432x288 with 1 Axes>"
      ]
     },
     "metadata": {
      "needs_background": "light"
     },
     "output_type": "display_data"
    },
    {
     "name": "stdout",
     "output_type": "stream",
     "text": [
      "5728\n",
      "Punctuation: :\n",
      "Punctuation: ;\n",
      "Punctuation: ,\n",
      "Punctuation: .\n",
      "Punctuation: -\n",
      "Punctuation: '\n",
      "Punctuation: %\n",
      "Punctuation: _\n",
      "Punctuation: $\n",
      "Punctuation: !\n",
      "Punctuation: (\n",
      "Punctuation: )\n",
      "Punctuation: @\n",
      "Punctuation: &\n",
      "Punctuation: /\n",
      "Punctuation: ?\n",
      "Punctuation: |\n",
      "Punctuation: *\n",
      "Punctuation: \"\n",
      "Punctuation: +\n",
      "Punctuation: =\n",
      "Punctuation: >\n",
      "Punctuation: #\n",
      "Punctuation: [\n",
      "Punctuation: ]\n",
      "Punctuation: ^\n",
      "Punctuation: }\n",
      "Punctuation: <\n",
      "Punctuation: ~\n",
      "Punctuation: \\\n",
      "Punctuation: `\n",
      "Punctuation: {\n",
      "[':', ';', ',', '.', '-', \"'\", '%', '_', '$', '!', '(', ')', '@', '&', '/', '?', '|', '*', '\"', '+', '=', '>', '#', '[', ']', '^', '}', '<', '~', '\\\\', '`', '{']\n"
     ]
    }
   ],
   "source": [
    "from ipynb.fs.full.preprocessing import processRef\n",
    "from ipynb.fs.full.data_analysis import readData, flatten_input, detect_punctuations"
   ]
  },
  {
   "cell_type": "code",
   "execution_count": 3,
   "id": "8ea19e5c",
   "metadata": {
    "ExecuteTime": {
     "end_time": "2022-06-20T15:33:39.578253Z",
     "start_time": "2022-06-20T15:33:37.464311Z"
    }
   },
   "outputs": [
    {
     "name": "stdout",
     "output_type": "stream",
     "text": [
      "5728\n"
     ]
    }
   ],
   "source": [
    "X, _ = readData(\"./data/Spam_Emails.csv\")\n",
    "concatenate_string, X_copy = flatten_input(X)\n",
    "new_refs = processRef(X_copy) "
   ]
  },
  {
   "cell_type": "code",
   "execution_count": 4,
   "id": "d7f220ac",
   "metadata": {
    "ExecuteTime": {
     "end_time": "2022-06-20T15:33:39.593405Z",
     "start_time": "2022-06-20T15:33:39.579207Z"
    }
   },
   "outputs": [],
   "source": [
    "y = np.load(\"./data/classes.npy\")"
   ]
  },
  {
   "cell_type": "code",
   "execution_count": 5,
   "id": "b330dd71",
   "metadata": {
    "ExecuteTime": {
     "end_time": "2022-06-20T15:33:39.688145Z",
     "start_time": "2022-06-20T15:33:39.595448Z"
    }
   },
   "outputs": [],
   "source": [
    "from sklearn.model_selection import train_test_split\n",
    "X_train, X_test, y_train, y_test = train_test_split(new_refs, y, test_size=0.2, random_state=42)\n"
   ]
  },
  {
   "cell_type": "code",
   "execution_count": 6,
   "id": "b68fda17",
   "metadata": {
    "ExecuteTime": {
     "end_time": "2022-06-20T15:33:39.704146Z",
     "start_time": "2022-06-20T15:33:39.689146Z"
    }
   },
   "outputs": [
    {
     "name": "stdout",
     "output_type": "stream",
     "text": [
      "4582\n",
      "4582\n",
      "1146\n",
      "1146\n"
     ]
    }
   ],
   "source": [
    "print(len(X_train))\n",
    "print(len(y_train))\n",
    "print(len(X_test))\n",
    "print(len(y_test))"
   ]
  },
  {
   "cell_type": "code",
   "execution_count": 7,
   "id": "d22bc2cf",
   "metadata": {
    "ExecuteTime": {
     "end_time": "2022-06-20T15:33:40.255671Z",
     "start_time": "2022-06-20T15:33:39.706149Z"
    }
   },
   "outputs": [],
   "source": [
    "vocab_size = 1000\n",
    "embedding_dim = 16\n",
    "max_length = 100\n",
    "trunc_type='post'\n",
    "padding_type='post'\n",
    "oov_tok = \"<OOV>\"\n",
    "from tensorflow.keras.preprocessing.text import Tokenizer\n",
    "from tensorflow.keras.preprocessing.sequence import pad_sequences\n",
    "tokenizer = Tokenizer(num_words = vocab_size, oov_token=oov_tok)\n",
    "tokenizer.fit_on_texts(X_train)\n",
    "word_index = tokenizer.word_index"
   ]
  },
  {
   "cell_type": "code",
   "execution_count": 8,
   "id": "d259edd9",
   "metadata": {
    "ExecuteTime": {
     "end_time": "2022-06-20T15:33:40.618655Z",
     "start_time": "2022-06-20T15:33:40.257583Z"
    }
   },
   "outputs": [],
   "source": [
    "sequences = tokenizer.texts_to_sequences(X_train)"
   ]
  },
  {
   "cell_type": "code",
   "execution_count": 9,
   "id": "b48b8d76",
   "metadata": {
    "ExecuteTime": {
     "end_time": "2022-06-20T15:33:40.742930Z",
     "start_time": "2022-06-20T15:33:40.621665Z"
    }
   },
   "outputs": [],
   "source": [
    "padded = pad_sequences(sequences,maxlen=max_length, padding=padding_type, \n",
    "                       truncating=trunc_type)\n",
    "testing_sequences = tokenizer.texts_to_sequences(X_test)\n",
    "testing_padded = pad_sequences(testing_sequences,maxlen=max_length, padding=padding_type, truncating=trunc_type)"
   ]
  },
  {
   "cell_type": "code",
   "execution_count": 10,
   "id": "9ab7eea4",
   "metadata": {
    "ExecuteTime": {
     "end_time": "2022-06-20T15:33:40.758481Z",
     "start_time": "2022-06-20T15:33:40.743936Z"
    }
   },
   "outputs": [],
   "source": [
    "import keras.backend as K\n",
    "\n",
    "def f1_metric(y_true, y_pred):\n",
    "    true_positives = K.sum(K.round(K.clip(y_true * y_pred, 0, 1)))\n",
    "    possible_positives = K.sum(K.round(K.clip(y_true, 0, 1)))\n",
    "    predicted_positives = K.sum(K.round(K.clip(y_pred, 0, 1)))\n",
    "    precision = true_positives / (predicted_positives + K.epsilon())\n",
    "    recall = true_positives / (possible_positives + K.epsilon())\n",
    "    f1_val = 2*(precision*recall)/(precision+recall+K.epsilon())\n",
    "    return f1_val"
   ]
  },
  {
   "cell_type": "code",
   "execution_count": 11,
   "id": "dcef3bb4",
   "metadata": {
    "ExecuteTime": {
     "end_time": "2022-06-20T15:33:40.821615Z",
     "start_time": "2022-06-20T15:33:40.759487Z"
    }
   },
   "outputs": [
    {
     "name": "stdout",
     "output_type": "stream",
     "text": [
      "Model: \"sequential\"\n",
      "_________________________________________________________________\n",
      " Layer (type)                Output Shape              Param #   \n",
      "=================================================================\n",
      " embedding (Embedding)       (None, 100, 16)           16000     \n",
      "                                                                 \n",
      " flatten (Flatten)           (None, 1600)              0         \n",
      "                                                                 \n",
      " dense (Dense)               (None, 6)                 9606      \n",
      "                                                                 \n",
      " dense_1 (Dense)             (None, 1)                 7         \n",
      "                                                                 \n",
      "=================================================================\n",
      "Total params: 25,613\n",
      "Trainable params: 25,613\n",
      "Non-trainable params: 0\n",
      "_________________________________________________________________\n"
     ]
    }
   ],
   "source": [
    "model = tf.keras.Sequential([\n",
    "    tf.keras.layers.Embedding(vocab_size, embedding_dim, input_length=max_length),\n",
    "    tf.keras.layers.Flatten(),\n",
    "    tf.keras.layers.Dense(6, activation='relu'),\n",
    "    tf.keras.layers.Dense(1, activation='sigmoid')\n",
    "])\n",
    "model.compile(loss='binary_crossentropy',optimizer='adam',metrics=['accuracy', f1_metric])\n",
    "model.summary()"
   ]
  },
  {
   "cell_type": "code",
   "execution_count": 12,
   "id": "4f9e0ed2",
   "metadata": {
    "ExecuteTime": {
     "end_time": "2022-06-20T15:33:46.784164Z",
     "start_time": "2022-06-20T15:33:40.822620Z"
    }
   },
   "outputs": [
    {
     "name": "stdout",
     "output_type": "stream",
     "text": [
      "Epoch 1/20\n",
      "144/144 [==============================] - 1s 3ms/step - loss: 0.3952 - accuracy: 0.8313 - f1_metric: 0.3604 - val_loss: 0.1722 - val_accuracy: 0.9503 - val_f1_metric: 0.9015\n",
      "Epoch 2/20\n",
      "144/144 [==============================] - 0s 2ms/step - loss: 0.0929 - accuracy: 0.9727 - f1_metric: 0.9307 - val_loss: 0.0782 - val_accuracy: 0.9712 - val_f1_metric: 0.9363\n",
      "Epoch 3/20\n",
      "144/144 [==============================] - 0s 2ms/step - loss: 0.0412 - accuracy: 0.9891 - f1_metric: 0.9783 - val_loss: 0.0594 - val_accuracy: 0.9799 - val_f1_metric: 0.9560\n",
      "Epoch 4/20\n",
      "144/144 [==============================] - 0s 2ms/step - loss: 0.0217 - accuracy: 0.9959 - f1_metric: 0.9910 - val_loss: 0.0528 - val_accuracy: 0.9834 - val_f1_metric: 0.9618\n",
      "Epoch 5/20\n",
      "144/144 [==============================] - 0s 2ms/step - loss: 0.0136 - accuracy: 0.9976 - f1_metric: 0.9939 - val_loss: 0.0555 - val_accuracy: 0.9808 - val_f1_metric: 0.9563\n",
      "Epoch 6/20\n",
      "144/144 [==============================] - 0s 2ms/step - loss: 0.0091 - accuracy: 0.9980 - f1_metric: 0.9960 - val_loss: 0.0537 - val_accuracy: 0.9825 - val_f1_metric: 0.9615\n",
      "Epoch 7/20\n",
      "144/144 [==============================] - 0s 2ms/step - loss: 0.0063 - accuracy: 0.9996 - f1_metric: 0.9992 - val_loss: 0.0532 - val_accuracy: 0.9817 - val_f1_metric: 0.9599\n",
      "Epoch 8/20\n",
      "144/144 [==============================] - 0s 2ms/step - loss: 0.0048 - accuracy: 0.9991 - f1_metric: 0.9913 - val_loss: 0.0548 - val_accuracy: 0.9825 - val_f1_metric: 0.9607\n",
      "Epoch 9/20\n",
      "144/144 [==============================] - 0s 2ms/step - loss: 0.0037 - accuracy: 0.9991 - f1_metric: 0.9914 - val_loss: 0.0555 - val_accuracy: 0.9834 - val_f1_metric: 0.9637\n",
      "Epoch 10/20\n",
      "144/144 [==============================] - 0s 2ms/step - loss: 0.0028 - accuracy: 0.9996 - f1_metric: 0.9994 - val_loss: 0.0569 - val_accuracy: 0.9817 - val_f1_metric: 0.9591\n",
      "Epoch 11/20\n",
      "144/144 [==============================] - 0s 2ms/step - loss: 0.0027 - accuracy: 0.9993 - f1_metric: 0.9979 - val_loss: 0.0580 - val_accuracy: 0.9817 - val_f1_metric: 0.9591\n",
      "Epoch 12/20\n",
      "144/144 [==============================] - 0s 2ms/step - loss: 0.0022 - accuracy: 0.9996 - f1_metric: 0.9987 - val_loss: 0.0605 - val_accuracy: 0.9825 - val_f1_metric: 0.9607\n",
      "Epoch 13/20\n",
      "144/144 [==============================] - 0s 2ms/step - loss: 0.0024 - accuracy: 0.9993 - f1_metric: 0.9988 - val_loss: 0.0684 - val_accuracy: 0.9817 - val_f1_metric: 0.9590\n",
      "Epoch 14/20\n",
      "144/144 [==============================] - 0s 2ms/step - loss: 0.0021 - accuracy: 0.9993 - f1_metric: 0.9916 - val_loss: 0.0625 - val_accuracy: 0.9825 - val_f1_metric: 0.9607\n",
      "Epoch 15/20\n",
      "144/144 [==============================] - 0s 2ms/step - loss: 0.0014 - accuracy: 0.9998 - f1_metric: 0.9994 - val_loss: 0.0630 - val_accuracy: 0.9825 - val_f1_metric: 0.9630\n",
      "Epoch 16/20\n",
      "144/144 [==============================] - 0s 2ms/step - loss: 0.0013 - accuracy: 0.9998 - f1_metric: 0.9992 - val_loss: 0.0661 - val_accuracy: 0.9825 - val_f1_metric: 0.9607\n",
      "Epoch 17/20\n",
      "144/144 [==============================] - 0s 2ms/step - loss: 0.0015 - accuracy: 0.9993 - f1_metric: 0.9986 - val_loss: 0.0663 - val_accuracy: 0.9817 - val_f1_metric: 0.9611\n",
      "Epoch 18/20\n",
      "144/144 [==============================] - 0s 2ms/step - loss: 0.0016 - accuracy: 0.9993 - f1_metric: 0.9980 - val_loss: 0.0667 - val_accuracy: 0.9834 - val_f1_metric: 0.9647\n",
      "Epoch 19/20\n",
      "144/144 [==============================] - 0s 2ms/step - loss: 0.0012 - accuracy: 0.9993 - f1_metric: 0.9988 - val_loss: 0.0738 - val_accuracy: 0.9764 - val_f1_metric: 0.9510\n",
      "Epoch 20/20\n",
      "144/144 [==============================] - 0s 2ms/step - loss: 0.0012 - accuracy: 0.9996 - f1_metric: 0.9918 - val_loss: 0.0713 - val_accuracy: 0.9817 - val_f1_metric: 0.9565\n"
     ]
    }
   ],
   "source": [
    "num_epochs = 20\n",
    "history=model.fit(padded, y_train, epochs=num_epochs, validation_data=(testing_padded, y_test))"
   ]
  },
  {
   "cell_type": "code",
   "execution_count": 13,
   "id": "dccad326",
   "metadata": {
    "ExecuteTime": {
     "end_time": "2022-06-20T15:33:46.799998Z",
     "start_time": "2022-06-20T15:33:46.784927Z"
    }
   },
   "outputs": [
    {
     "name": "stdout",
     "output_type": "stream",
     "text": [
      "Number of mislabeled points out of a total 1146 points : 407\n"
     ]
    }
   ],
   "source": [
    "from sklearn.naive_bayes import GaussianNB\n",
    "\n",
    "gnb = GaussianNB()\n",
    "padded = np.array(padded)\n",
    "y_train = np.array(y_train)\n",
    "y_test = np.array(y_test)\n",
    "testing_padded = np.array(testing_padded)\n",
    "y_pred = gnb.fit(padded, y_train).predict(testing_padded)\n",
    "print(\"Number of mislabeled points out of a total %d points : %d\"% (testing_padded.shape[0], (y_test != y_pred).sum()))\n"
   ]
  },
  {
   "cell_type": "code",
   "execution_count": 14,
   "id": "60981783",
   "metadata": {
    "ExecuteTime": {
     "end_time": "2022-06-20T15:33:46.815599Z",
     "start_time": "2022-06-20T15:33:46.800999Z"
    }
   },
   "outputs": [
    {
     "data": {
      "text/plain": [
       "0.5906521435774297"
      ]
     },
     "execution_count": 14,
     "metadata": {},
     "output_type": "execute_result"
    }
   ],
   "source": [
    "from sklearn.metrics import f1_score\n",
    "\n",
    "f1_score(y_test, y_pred, average='macro')"
   ]
  }
 ],
 "metadata": {
  "kernelspec": {
   "display_name": "Python 3 (ipykernel)",
   "language": "python",
   "name": "python3"
  },
  "language_info": {
   "codemirror_mode": {
    "name": "ipython",
    "version": 3
   },
   "file_extension": ".py",
   "mimetype": "text/x-python",
   "name": "python",
   "nbconvert_exporter": "python",
   "pygments_lexer": "ipython3",
   "version": "3.7.0"
  },
  "latex_envs": {
   "LaTeX_envs_menu_present": true,
   "autoclose": false,
   "autocomplete": true,
   "bibliofile": "biblio.bib",
   "cite_by": "apalike",
   "current_citInitial": 1,
   "eqLabelWithNumbers": true,
   "eqNumInitial": 1,
   "hotkeys": {
    "equation": "Ctrl-E",
    "itemize": "Ctrl-I"
   },
   "labels_anchors": false,
   "latex_user_defs": false,
   "report_style_numbering": false,
   "user_envs_cfg": false
  }
 },
 "nbformat": 4,
 "nbformat_minor": 5
}
