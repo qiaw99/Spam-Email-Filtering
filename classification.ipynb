{
 "cells": [
  {
   "cell_type": "code",
   "execution_count": 1,
   "id": "091c419a",
   "metadata": {
    "ExecuteTime": {
     "end_time": "2022-06-21T12:10:44.448792Z",
     "start_time": "2022-06-21T12:10:40.158097Z"
    }
   },
   "outputs": [],
   "source": [
    "import numpy as np\n",
    "import gensim\n",
    "import tensorflow as tf"
   ]
  },
  {
   "cell_type": "code",
   "execution_count": 2,
   "id": "05ce8472",
   "metadata": {
    "ExecuteTime": {
     "end_time": "2022-06-21T12:10:50.852153Z",
     "start_time": "2022-06-21T12:10:44.450795Z"
    }
   },
   "outputs": [
    {
     "name": "stdout",
     "output_type": "stream",
     "text": [
      "['text', 'spam']\n",
      "5728\n",
      "5728\n",
      "5728\n",
      "[\"Subject: naturally irresistible your corporate identity  lt is really hard to recollect a company : the  market is full of suqgestions and the information isoverwhelminq ; but a good  catchy logo , stylish statlonery and outstanding website  will make the task much easier .  we do not promise that havinq ordered a iogo your  company will automaticaily become a world ieader : it isguite ciear that  without good products , effective business organization and practicable aim it  will be hotat nowadays market ; but we do promise that your marketing efforts  will become much more effective . here is the list of clear  benefits : creativeness : hand - made , original logos , specially done  to reflect your distinctive company image . convenience : logo and stationery  are provided in all formats ; easy - to - use content management system letsyou  change your website content and even its structure . promptness : you  will see logo drafts within three business days . affordability : your  marketing break - through shouldn ' t make gaps in your budget . 100 % satisfaction  guaranteed : we provide unlimited amount of changes with no extra fees for you to  be surethat you will love the result of this collaboration . have a look at our  portfolio _ _ _ _ _ _ _ _ _ _ _ _ _ _ _ _ _ _ _ _ _ _ _ _ _ _ _ _ _ _ _ _ _ _ _ _ _ _ _ _ _ _ _ _ _ _ _ _ _ _ _ _ not interested . . . _ _ _ _ _ _ _ _ _ _ _ _ _ _ _ _ _ _ _ _ _ _ _ _ _ _ _ _ _ _ _ _ _ _ _ _ _ _ _ _ _ _ _ _ _ _ _ _ _ _ _ _\", 'Subject: the stock trading gunslinger  fanny is merrill but muzo not colza attainder and penultimate like esmark perspicuous ramble is segovia not group try slung kansas tanzania yes chameleon or continuant clothesman no  libretto is chesapeake but tight not waterway herald and hawthorn like chisel morristown superior is deoxyribonucleic not clockwork try hall incredible mcdougall yes hepburn or einsteinian earmark no  sapling is boar but duane not plain palfrey and inflexible like huzzah pepperoni bedtime is nameable not attire try edt chronography optima yes pirogue or diffusion albeit no ', 'Subject: unbelievable new homes made easy  im wanting to show you this  homeowner  you have been pre - approved for a $ 454 , 169 home loan at a 3 . 72 fixed rate .  this offer is being extended to you unconditionally and your credit is in no way a factor .  to take advantage of this limited time opportunity  all we ask is that you visit our website and complete  the 1 minute post approval form  look foward to hearing from you ,  dorcas pittman', 'Subject: 4 color printing special  request additional information now ! click here  click here for a printable version of our order form ( pdf format )  phone : ( 626 ) 338 - 8090 fax : ( 626 ) 338 - 8102 e - mail : ramsey @ goldengraphix . com  request additional information now ! click here  click here for a printable version of our order form ( pdf format )  golden graphix & printing 5110 azusa canyon rd . irwindale , ca 91706 this e - mail message is an advertisement and / or solicitation . ', \"Subject: do not have money , get software cds from here !  software compatibility . . . . ain ' t it great ?  grow old along with me the best is yet to be .  all tradgedies are finish ' d by death . all comedies are ended by marriage .\"]\n",
      "Counter({0: 4360, 1: 1368})\n"
     ]
    },
    {
     "data": {
      "image/png": "[encoded data removed]",
      "text/plain": [
       "<Figure size 432x288 with 1 Axes>"
      ]
     },
     "metadata": {
      "needs_background": "light"
     },
     "output_type": "display_data"
    },
    {
     "name": "stdout",
     "output_type": "stream",
     "text": [
      "Punctuation: :\n",
      "Punctuation: ;\n",
      "Punctuation: ,\n",
      "Punctuation: .\n",
      "Punctuation: -\n",
      "Punctuation: '\n",
      "Punctuation: %\n",
      "Punctuation: _\n",
      "Punctuation: $\n",
      "Punctuation: !\n",
      "Punctuation: (\n",
      "Punctuation: )\n",
      "Punctuation: @\n",
      "Punctuation: &\n",
      "Punctuation: /\n",
      "Punctuation: ?\n",
      "Punctuation: |\n",
      "Punctuation: *\n",
      "Punctuation: \"\n",
      "Punctuation: +\n",
      "Punctuation: =\n",
      "Punctuation: >\n",
      "Punctuation: #\n",
      "Punctuation: [\n",
      "Punctuation: ]\n",
      "Punctuation: ^\n",
      "Punctuation: }\n",
      "Punctuation: <\n",
      "Punctuation: ~\n",
      "Punctuation: \\\n",
      "Punctuation: `\n",
      "Punctuation: {\n",
      "32\n",
      "[':', ';', ',', '.', '-', \"'\", '%', '_', '$', '!', '(', ')', '@', '&', '/', '?', '|', '*', '\"', '+', '=', '>', '#', '[', ']', '^', '}', '<', '~', '\\\\', '`', '{']\n",
      "[('', 475161), ('the', 50110), ('to', 41734), ('and', 27478), ('of', 23757), ('a', 19943), ('you', 19149), ('in', 17972), ('i', 17421), ('for', 16696)]\n"
     ]
    },
    {
     "data": {
      "image/png": "[encoded data removed]",
      "text/plain": [
       "<Figure size 432x288 with 1 Axes>"
      ]
     },
     "metadata": {
      "needs_background": "light"
     },
     "output_type": "display_data"
    },
    {
     "name": "stdout",
     "output_type": "stream",
     "text": [
      "5728\n",
      "Punctuation: :\n",
      "Punctuation: ;\n",
      "Punctuation: ,\n",
      "Punctuation: .\n",
      "Punctuation: -\n",
      "Punctuation: '\n",
      "Punctuation: %\n",
      "Punctuation: _\n",
      "Punctuation: $\n",
      "Punctuation: !\n",
      "Punctuation: (\n",
      "Punctuation: )\n",
      "Punctuation: @\n",
      "Punctuation: &\n",
      "Punctuation: /\n",
      "Punctuation: ?\n",
      "Punctuation: |\n",
      "Punctuation: *\n",
      "Punctuation: \"\n",
      "Punctuation: +\n",
      "Punctuation: =\n",
      "Punctuation: >\n",
      "Punctuation: #\n",
      "Punctuation: [\n",
      "Punctuation: ]\n",
      "Punctuation: ^\n",
      "Punctuation: }\n",
      "Punctuation: <\n",
      "Punctuation: ~\n",
      "Punctuation: \\\n",
      "Punctuation: `\n",
      "Punctuation: {\n",
      "[':', ';', ',', '.', '-', \"'\", '%', '_', '$', '!', '(', ')', '@', '&', '/', '?', '|', '*', '\"', '+', '=', '>', '#', '[', ']', '^', '}', '<', '~', '\\\\', '`', '{']\n"
     ]
    }
   ],
   "source": [
    "from ipynb.fs.full.preprocessing import processRef\n",
    "from ipynb.fs.full.data_analysis import readData, flatten_input, detect_punctuations"
   ]
  },
  {
   "cell_type": "code",
   "execution_count": 3,
   "id": "6d84667b",
   "metadata": {
    "ExecuteTime": {
     "end_time": "2022-06-21T12:10:52.927169Z",
     "start_time": "2022-06-21T12:10:50.854072Z"
    }
   },
   "outputs": [
    {
     "name": "stdout",
     "output_type": "stream",
     "text": [
      "5728\n"
     ]
    }
   ],
   "source": [
    "X, _ = readData(\"./data/Spam_Emails.csv\")\n",
    "concatenate_string, X_copy = flatten_input(X)\n",
    "new_refs = processRef(X_copy) "
   ]
  },
  {
   "cell_type": "code",
   "execution_count": 4,
   "id": "d23d584e",
   "metadata": {
    "ExecuteTime": {
     "end_time": "2022-06-21T12:10:52.942180Z",
     "start_time": "2022-06-21T12:10:52.928173Z"
    }
   },
   "outputs": [],
   "source": [
    "y = np.load(\"./data/classes.npy\")"
   ]
  },
  {
   "cell_type": "code",
   "execution_count": 5,
   "id": "57ea35ba",
   "metadata": {
    "ExecuteTime": {
     "end_time": "2022-06-21T12:10:53.101102Z",
     "start_time": "2022-06-21T12:10:52.943185Z"
    }
   },
   "outputs": [],
   "source": [
    "from sklearn.model_selection import train_test_split\n",
    "X_train, X_test, y_train, y_test = train_test_split(new_refs, y, test_size=0.2, random_state=42)\n"
   ]
  },
  {
   "cell_type": "code",
   "execution_count": 6,
   "id": "68fee72c",
   "metadata": {
    "ExecuteTime": {
     "end_time": "2022-06-21T12:10:53.117099Z",
     "start_time": "2022-06-21T12:10:53.103103Z"
    }
   },
   "outputs": [
    {
     "name": "stdout",
     "output_type": "stream",
     "text": [
      "4582\n",
      "4582\n",
      "1146\n",
      "1146\n"
     ]
    }
   ],
   "source": [
    "print(len(X_train))\n",
    "print(len(y_train))\n",
    "print(len(X_test))\n",
    "print(len(y_test))"
   ]
  },
  {
   "cell_type": "markdown",
   "id": "7eb2937a",
   "metadata": {},
   "source": [
    "## First approach"
   ]
  },
  {
   "cell_type": "code",
   "execution_count": 7,
   "id": "0241d4e9",
   "metadata": {
    "ExecuteTime": {
     "end_time": "2022-06-21T12:10:53.665119Z",
     "start_time": "2022-06-21T12:10:53.119108Z"
    }
   },
   "outputs": [],
   "source": [
    "vocab_size = 1000\n",
    "embedding_dim = 16\n",
    "max_length = 100\n",
    "trunc_type='post'\n",
    "padding_type='post'\n",
    "oov_tok = \"<OOV>\"\n",
    "from tensorflow.keras.preprocessing.text import Tokenizer\n",
    "from tensorflow.keras.preprocessing.sequence import pad_sequences\n",
    "tokenizer = Tokenizer(num_words = vocab_size, oov_token=oov_tok)\n",
    "tokenizer.fit_on_texts(X_train)\n",
    "word_index = tokenizer.word_index"
   ]
  },
  {
   "cell_type": "code",
   "execution_count": 8,
   "id": "852897d6",
   "metadata": {
    "ExecuteTime": {
     "end_time": "2022-06-21T12:10:54.013135Z",
     "start_time": "2022-06-21T12:10:53.667123Z"
    }
   },
   "outputs": [],
   "source": [
    "sequences = tokenizer.texts_to_sequences(X_train)"
   ]
  },
  {
   "cell_type": "code",
   "execution_count": 9,
   "id": "7897acf2",
   "metadata": {
    "ExecuteTime": {
     "end_time": "2022-06-21T12:10:54.141132Z",
     "start_time": "2022-06-21T12:10:54.015140Z"
    }
   },
   "outputs": [],
   "source": [
    "padded = pad_sequences(sequences,maxlen=max_length, padding=padding_type, \n",
    "                       truncating=trunc_type)\n",
    "testing_sequences = tokenizer.texts_to_sequences(X_test)\n",
    "testing_padded = pad_sequences(testing_sequences,maxlen=max_length, padding=padding_type, truncating=trunc_type)"
   ]
  },
  {
   "cell_type": "code",
   "execution_count": 10,
   "id": "68656e7d",
   "metadata": {
    "ExecuteTime": {
     "end_time": "2022-06-21T12:10:54.157134Z",
     "start_time": "2022-06-21T12:10:54.143135Z"
    }
   },
   "outputs": [],
   "source": [
    "import keras.backend as K\n",
    "\n",
    "def f1_metric(y_true, y_pred):\n",
    "    true_positives = K.sum(K.round(K.clip(y_true * y_pred, 0, 1)))\n",
    "    possible_positives = K.sum(K.round(K.clip(y_true, 0, 1)))\n",
    "    predicted_positives = K.sum(K.round(K.clip(y_pred, 0, 1)))\n",
    "    precision = true_positives / (predicted_positives + K.epsilon())\n",
    "    recall = true_positives / (possible_positives + K.epsilon())\n",
    "    f1_val = 2*(precision*recall)/(precision+recall+K.epsilon())\n",
    "    return f1_val"
   ]
  },
  {
   "cell_type": "code",
   "execution_count": 11,
   "id": "43cba794",
   "metadata": {
    "ExecuteTime": {
     "end_time": "2022-06-21T12:10:54.173132Z",
     "start_time": "2022-06-21T12:10:54.158141Z"
    }
   },
   "outputs": [],
   "source": [
    "def scheduler(epoch, lr):\n",
    "        if epoch < 5:\n",
    "            return lr\n",
    "        else:\n",
    "            return lr * tf.math.exp(-0.1)"
   ]
  },
  {
   "cell_type": "code",
   "execution_count": 12,
   "id": "c7bf9ced",
   "metadata": {
    "ExecuteTime": {
     "end_time": "2022-06-21T12:10:54.189186Z",
     "start_time": "2022-06-21T12:10:54.174137Z"
    }
   },
   "outputs": [],
   "source": [
    "callbacks = [tf.keras.callbacks.EarlyStopping(monitor='val_accuracy', patience=3), \n",
    "                    tf.keras.callbacks.LearningRateScheduler(scheduler, verbose=1)]"
   ]
  },
  {
   "cell_type": "code",
   "execution_count": 13,
   "id": "4c46a509",
   "metadata": {
    "ExecuteTime": {
     "end_time": "2022-06-21T12:10:54.268761Z",
     "start_time": "2022-06-21T12:10:54.190198Z"
    }
   },
   "outputs": [
    {
     "name": "stdout",
     "output_type": "stream",
     "text": [
      "Model: \"sequential\"\n",
      "_________________________________________________________________\n",
      " Layer (type)                Output Shape              Param #   \n",
      "=================================================================\n",
      " embedding (Embedding)       (None, 100, 16)           16000     \n",
      "                                                                 \n",
      " flatten (Flatten)           (None, 1600)              0         \n",
      "                                                                 \n",
      " dense (Dense)               (None, 6)                 9606      \n",
      "                                                                 \n",
      " dense_1 (Dense)             (None, 1)                 7         \n",
      "                                                                 \n",
      "=================================================================\n",
      "Total params: 25,613\n",
      "Trainable params: 25,613\n",
      "Non-trainable params: 0\n",
      "_________________________________________________________________\n"
     ]
    }
   ],
   "source": [
    "def build_model(vocab_size, embedding_dim, max_length):\n",
    "    model = tf.keras.Sequential([\n",
    "        tf.keras.layers.Embedding(vocab_size, embedding_dim, input_length=max_length),\n",
    "        tf.keras.layers.Flatten(),\n",
    "        tf.keras.layers.Dense(6, activation='relu'),\n",
    "        tf.keras.layers.Dense(1, activation='sigmoid')\n",
    "    ])\n",
    "    \n",
    "    return model \n",
    "\n",
    "model = build_model(vocab_size, embedding_dim, max_length)\n",
    "model.compile(loss='binary_crossentropy',optimizer=tf.keras.optimizers.SGD(momentum=0.9),metrics=['accuracy', f1_metric])\n",
    "model.summary()"
   ]
  },
  {
   "cell_type": "code",
   "execution_count": 14,
   "id": "c2d8d59b",
   "metadata": {
    "ExecuteTime": {
     "end_time": "2022-06-21T12:11:00.005521Z",
     "start_time": "2022-06-21T12:10:54.269765Z"
    }
   },
   "outputs": [
    {
     "name": "stdout",
     "output_type": "stream",
     "text": [
      "\n",
      "Epoch 1: LearningRateScheduler setting learning rate to 0.009999999776482582.\n",
      "Epoch 1/20\n",
      "144/144 [==============================] - 1s 3ms/step - loss: 0.5496 - accuracy: 0.7584 - f1_metric: 0.0121 - val_loss: 0.5173 - val_accuracy: 0.7469 - val_f1_metric: 0.0000e+00 - lr: 0.0100\n",
      "\n",
      "Epoch 2: LearningRateScheduler setting learning rate to 0.009999999776482582.\n",
      "Epoch 2/20\n",
      "144/144 [==============================] - 0s 2ms/step - loss: 0.4264 - accuracy: 0.7813 - f1_metric: 0.1328 - val_loss: 0.3411 - val_accuracy: 0.8551 - val_f1_metric: 0.6158 - lr: 0.0100\n",
      "\n",
      "Epoch 3: LearningRateScheduler setting learning rate to 0.009999999776482582.\n",
      "Epoch 3/20\n",
      "144/144 [==============================] - 0s 2ms/step - loss: 0.2695 - accuracy: 0.8863 - f1_metric: 0.7048 - val_loss: 0.2253 - val_accuracy: 0.9092 - val_f1_metric: 0.7882 - lr: 0.0100\n",
      "\n",
      "Epoch 4: LearningRateScheduler setting learning rate to 0.009999999776482582.\n",
      "Epoch 4/20\n",
      "144/144 [==============================] - 0s 2ms/step - loss: 0.1884 - accuracy: 0.9280 - f1_metric: 0.8330 - val_loss: 0.2193 - val_accuracy: 0.8979 - val_f1_metric: 0.7544 - lr: 0.0100\n",
      "\n",
      "Epoch 5: LearningRateScheduler setting learning rate to 0.009999999776482582.\n",
      "Epoch 5/20\n",
      "144/144 [==============================] - 0s 2ms/step - loss: 0.1470 - accuracy: 0.9448 - f1_metric: 0.8634 - val_loss: 0.1778 - val_accuracy: 0.9197 - val_f1_metric: 0.8146 - lr: 0.0100\n",
      "\n",
      "Epoch 6: LearningRateScheduler setting learning rate to 0.009048374369740486.\n",
      "Epoch 6/20\n",
      "144/144 [==============================] - 0s 2ms/step - loss: 0.1154 - accuracy: 0.9564 - f1_metric: 0.8895 - val_loss: 0.1425 - val_accuracy: 0.9389 - val_f1_metric: 0.8584 - lr: 0.0090\n",
      "\n",
      "Epoch 7: LearningRateScheduler setting learning rate to 0.008187307976186275.\n",
      "Epoch 7/20\n",
      "144/144 [==============================] - 0s 2ms/step - loss: 0.0994 - accuracy: 0.9653 - f1_metric: 0.9114 - val_loss: 0.1358 - val_accuracy: 0.9538 - val_f1_metric: 0.9090 - lr: 0.0082\n",
      "\n",
      "Epoch 8: LearningRateScheduler setting learning rate to 0.007408182602375746.\n",
      "Epoch 8/20\n",
      "144/144 [==============================] - 0s 2ms/step - loss: 0.0843 - accuracy: 0.9703 - f1_metric: 0.9311 - val_loss: 0.1237 - val_accuracy: 0.9555 - val_f1_metric: 0.9119 - lr: 0.0074\n",
      "\n",
      "Epoch 9: LearningRateScheduler setting learning rate to 0.006703200750052929.\n",
      "Epoch 9/20\n",
      "144/144 [==============================] - 0s 2ms/step - loss: 0.0726 - accuracy: 0.9756 - f1_metric: 0.9462 - val_loss: 0.1133 - val_accuracy: 0.9529 - val_f1_metric: 0.8988 - lr: 0.0067\n",
      "\n",
      "Epoch 10: LearningRateScheduler setting learning rate to 0.006065306719392538.\n",
      "Epoch 10/20\n",
      "144/144 [==============================] - 0s 2ms/step - loss: 0.0722 - accuracy: 0.9732 - f1_metric: 0.9399 - val_loss: 0.1581 - val_accuracy: 0.9415 - val_f1_metric: 0.8827 - lr: 0.0061\n",
      "\n",
      "Epoch 11: LearningRateScheduler setting learning rate to 0.005488116759806871.\n",
      "Epoch 11/20\n",
      "144/144 [==============================] - 0s 2ms/step - loss: 0.0558 - accuracy: 0.9830 - f1_metric: 0.9608 - val_loss: 0.1134 - val_accuracy: 0.9581 - val_f1_metric: 0.9158 - lr: 0.0055\n",
      "\n",
      "Epoch 12: LearningRateScheduler setting learning rate to 0.004965853411704302.\n",
      "Epoch 12/20\n",
      "144/144 [==============================] - 0s 2ms/step - loss: 0.0524 - accuracy: 0.9860 - f1_metric: 0.9662 - val_loss: 0.1115 - val_accuracy: 0.9529 - val_f1_metric: 0.8967 - lr: 0.0050\n",
      "\n",
      "Epoch 13: LearningRateScheduler setting learning rate to 0.004493290092796087.\n",
      "Epoch 13/20\n",
      "144/144 [==============================] - 0s 2ms/step - loss: 0.0410 - accuracy: 0.9906 - f1_metric: 0.9775 - val_loss: 0.1036 - val_accuracy: 0.9625 - val_f1_metric: 0.9253 - lr: 0.0045\n",
      "\n",
      "Epoch 14: LearningRateScheduler setting learning rate to 0.004065697081387043.\n",
      "Epoch 14/20\n",
      "144/144 [==============================] - 0s 2ms/step - loss: 0.0438 - accuracy: 0.9860 - f1_metric: 0.9683 - val_loss: 0.0956 - val_accuracy: 0.9634 - val_f1_metric: 0.9216 - lr: 0.0041\n",
      "\n",
      "Epoch 15: LearningRateScheduler setting learning rate to 0.003678794950246811.\n",
      "Epoch 15/20\n",
      "144/144 [==============================] - 0s 2ms/step - loss: 0.0364 - accuracy: 0.9908 - f1_metric: 0.9716 - val_loss: 0.0982 - val_accuracy: 0.9651 - val_f1_metric: 0.9276 - lr: 0.0037\n",
      "\n",
      "Epoch 16: LearningRateScheduler setting learning rate to 0.00332871126011014.\n",
      "Epoch 16/20\n",
      "144/144 [==============================] - 0s 2ms/step - loss: 0.0339 - accuracy: 0.9897 - f1_metric: 0.9768 - val_loss: 0.1002 - val_accuracy: 0.9599 - val_f1_metric: 0.9119 - lr: 0.0033\n",
      "\n",
      "Epoch 17: LearningRateScheduler setting learning rate to 0.00301194260828197.\n",
      "Epoch 17/20\n",
      "144/144 [==============================] - 0s 2ms/step - loss: 0.0355 - accuracy: 0.9906 - f1_metric: 0.9798 - val_loss: 0.0951 - val_accuracy: 0.9660 - val_f1_metric: 0.9290 - lr: 0.0030\n",
      "\n",
      "Epoch 18: LearningRateScheduler setting learning rate to 0.002725318307057023.\n",
      "Epoch 18/20\n",
      "144/144 [==============================] - 0s 2ms/step - loss: 0.0299 - accuracy: 0.9937 - f1_metric: 0.9844 - val_loss: 0.0895 - val_accuracy: 0.9651 - val_f1_metric: 0.9287 - lr: 0.0027\n",
      "\n",
      "Epoch 19: LearningRateScheduler setting learning rate to 0.002465970115736127.\n",
      "Epoch 19/20\n",
      "144/144 [==============================] - 0s 2ms/step - loss: 0.0283 - accuracy: 0.9939 - f1_metric: 0.9858 - val_loss: 0.0943 - val_accuracy: 0.9660 - val_f1_metric: 0.9318 - lr: 0.0025\n",
      "\n",
      "Epoch 20: LearningRateScheduler setting learning rate to 0.002231301972642541.\n",
      "Epoch 20/20\n",
      "144/144 [==============================] - 0s 2ms/step - loss: 0.0276 - accuracy: 0.9941 - f1_metric: 0.9770 - val_loss: 0.0868 - val_accuracy: 0.9668 - val_f1_metric: 0.9340 - lr: 0.0022\n"
     ]
    }
   ],
   "source": [
    "history=model.fit(padded, y_train, epochs=20, validation_data=(testing_padded, y_test),callbacks=callbacks)"
   ]
  },
  {
   "cell_type": "code",
   "execution_count": 15,
   "id": "a5df96b2",
   "metadata": {
    "ExecuteTime": {
     "end_time": "2022-06-21T12:11:00.195520Z",
     "start_time": "2022-06-21T12:11:00.007527Z"
    }
   },
   "outputs": [
    {
     "data": {
      "image/png": "[encoded data removed]",
      "text/plain": [
       "<Figure size 432x288 with 1 Axes>"
      ]
     },
     "metadata": {
      "needs_background": "light"
     },
     "output_type": "display_data"
    },
    {
     "data": {
      "image/png": "[encoded data removed]",
      "text/plain": [
       "<Figure size 432x288 with 1 Axes>"
      ]
     },
     "metadata": {
      "needs_background": "light"
     },
     "output_type": "display_data"
    }
   ],
   "source": [
    "from matplotlib import pyplot as plt \n",
    "plt.plot(history.history['accuracy'], label='accuracy')\n",
    "plt.plot(history.history['val_accuracy'], label = 'val_accuracy')\n",
    "plt.xlabel('Epoch')\n",
    "plt.ylabel('Accuracy')\n",
    "plt.ylim([0.8, 1])\n",
    "plt.legend(loc='lower right')\n",
    "plt.show()\n",
    "\n",
    "plt.plot(history.history['loss'])\n",
    "plt.plot(history.history['val_loss'])\n",
    "plt.title('Loss vs. epochs')\n",
    "plt.ylabel('Loss')\n",
    "plt.xlabel('Epoch')\n",
    "plt.legend(['Training', 'Validation'], loc='upper right')\n",
    "plt.show()"
   ]
  },
  {
   "cell_type": "code",
   "execution_count": 16,
   "id": "484ccd4b",
   "metadata": {
    "ExecuteTime": {
     "end_time": "2022-06-21T12:11:00.211525Z",
     "start_time": "2022-06-21T12:11:00.196526Z"
    }
   },
   "outputs": [
    {
     "name": "stdout",
     "output_type": "stream",
     "text": [
      "Number of mislabeled points out of a total 1146 points : 407\n"
     ]
    }
   ],
   "source": [
    "from sklearn.naive_bayes import GaussianNB\n",
    "\n",
    "gnb = GaussianNB()\n",
    "padded = np.array(padded)\n",
    "y_train = np.array(y_train)\n",
    "y_test = np.array(y_test)\n",
    "testing_padded = np.array(testing_padded)\n",
    "y_pred = gnb.fit(padded, y_train).predict(testing_padded)\n",
    "print(\"Number of mislabeled points out of a total %d points : %d\"% (testing_padded.shape[0], (y_test != y_pred).sum()))\n"
   ]
  },
  {
   "cell_type": "code",
   "execution_count": 17,
   "id": "a6cfb644",
   "metadata": {
    "ExecuteTime": {
     "end_time": "2022-06-21T12:11:00.227520Z",
     "start_time": "2022-06-21T12:11:00.212527Z"
    }
   },
   "outputs": [
    {
     "data": {
      "text/plain": [
       "0.5906521435774297"
      ]
     },
     "execution_count": 17,
     "metadata": {},
     "output_type": "execute_result"
    }
   ],
   "source": [
    "from sklearn.metrics import f1_score\n",
    "\n",
    "f1_score(y_test, y_pred, average='macro')"
   ]
  },
  {
   "cell_type": "markdown",
   "id": "93608cf7",
   "metadata": {},
   "source": [
    "## Second approach\n"
   ]
  },
  {
   "cell_type": "code",
   "execution_count": 18,
   "id": "f989c09c",
   "metadata": {
    "ExecuteTime": {
     "end_time": "2022-06-21T12:11:01.395535Z",
     "start_time": "2022-06-21T12:11:00.228526Z"
    }
   },
   "outputs": [],
   "source": [
    "import string\n",
    "\n",
    "new_words = []\n",
    "for word in X:\n",
    "    for letter in word:\n",
    "        if letter in string.punctuation:\n",
    "            word = word.replace(letter,\"\")   \n",
    "    new_words.append(word)"
   ]
  },
  {
   "cell_type": "code",
   "execution_count": 29,
   "id": "2dfd171e",
   "metadata": {
    "ExecuteTime": {
     "end_time": "2022-06-21T12:33:48.288704Z",
     "start_time": "2022-06-21T12:33:47.024674Z"
    }
   },
   "outputs": [],
   "source": [
    "from sklearn.feature_extraction.text import TfidfVectorizer\n",
    "import copy\n",
    "\n",
    "bigram_vect = TfidfVectorizer(ngram_range=(1,1))\n",
    "temp = bigram_vect.fit_transform(X)\n",
    "new_X = temp.toarray()"
   ]
  },
  {
   "cell_type": "code",
   "execution_count": 30,
   "id": "988be500",
   "metadata": {
    "ExecuteTime": {
     "end_time": "2022-06-21T12:33:48.866715Z",
     "start_time": "2022-06-21T12:33:48.290703Z"
    }
   },
   "outputs": [],
   "source": [
    "X_train, X_test, y_train, y_test = train_test_split(new_X, y, test_size=0.2, random_state=42)\n",
    "del new_X"
   ]
  },
  {
   "cell_type": "code",
   "execution_count": 34,
   "id": "1046ee33",
   "metadata": {
    "ExecuteTime": {
     "end_time": "2022-06-21T12:33:59.212369Z",
     "start_time": "2022-06-21T12:33:59.162372Z"
    }
   },
   "outputs": [],
   "source": [
    "model2 = build_model(vocab_size, embedding_dim, 37303)"
   ]
  },
  {
   "cell_type": "code",
   "execution_count": 35,
   "id": "5db260f2",
   "metadata": {
    "ExecuteTime": {
     "end_time": "2022-06-21T12:33:59.837998Z",
     "start_time": "2022-06-21T12:33:59.814010Z"
    }
   },
   "outputs": [
    {
     "name": "stdout",
     "output_type": "stream",
     "text": [
      "Model: \"sequential_4\"\n",
      "_________________________________________________________________\n",
      " Layer (type)                Output Shape              Param #   \n",
      "=================================================================\n",
      " embedding_4 (Embedding)     (None, 37303, 16)         16000     \n",
      "                                                                 \n",
      " flatten_4 (Flatten)         (None, 596848)            0         \n",
      "                                                                 \n",
      " dense_8 (Dense)             (None, 6)                 3581094   \n",
      "                                                                 \n",
      " dense_9 (Dense)             (None, 1)                 7         \n",
      "                                                                 \n",
      "=================================================================\n",
      "Total params: 3,597,101\n",
      "Trainable params: 3,597,101\n",
      "Non-trainable params: 0\n",
      "_________________________________________________________________\n"
     ]
    }
   ],
   "source": [
    "model2.compile(loss='binary_crossentropy',optimizer=tf.keras.optimizers.Adam(),metrics=['accuracy', f1_metric])\n",
    "model2.summary()"
   ]
  },
  {
   "cell_type": "code",
   "execution_count": 36,
   "id": "deb6367e",
   "metadata": {
    "ExecuteTime": {
     "end_time": "2022-06-21T12:35:07.178720Z",
     "start_time": "2022-06-21T12:34:00.386501Z"
    }
   },
   "outputs": [
    {
     "name": "stdout",
     "output_type": "stream",
     "text": [
      "\n",
      "Epoch 1: LearningRateScheduler setting learning rate to 0.0010000000474974513.\n",
      "Epoch 1/20\n",
      "573/573 [==============================] - 17s 29ms/step - loss: 0.6419 - accuracy: 0.7630 - f1_metric: 0.0000e+00 - val_loss: 0.6101 - val_accuracy: 0.7469 - val_f1_metric: 0.0000e+00 - lr: 0.0010\n",
      "\n",
      "Epoch 2: LearningRateScheduler setting learning rate to 0.0010000000474974513.\n",
      "Epoch 2/20\n",
      "573/573 [==============================] - 17s 29ms/step - loss: 0.5807 - accuracy: 0.7647 - f1_metric: 0.0000e+00 - val_loss: 0.5780 - val_accuracy: 0.7469 - val_f1_metric: 0.0000e+00 - lr: 0.0010\n",
      "\n",
      "Epoch 3: LearningRateScheduler setting learning rate to 0.0010000000474974513.\n",
      "Epoch 3/20\n",
      "573/573 [==============================] - 16s 29ms/step - loss: 0.5572 - accuracy: 0.7647 - f1_metric: 0.0000e+00 - val_loss: 0.5682 - val_accuracy: 0.7469 - val_f1_metric: 0.0000e+00 - lr: 0.0010\n",
      "\n",
      "Epoch 4: LearningRateScheduler setting learning rate to 0.0010000000474974513.\n",
      "Epoch 4/20\n",
      "573/573 [==============================] - 16s 29ms/step - loss: 0.5492 - accuracy: 0.7647 - f1_metric: 0.0000e+00 - val_loss: 0.5658 - val_accuracy: 0.7469 - val_f1_metric: 0.0000e+00 - lr: 0.0010\n"
     ]
    }
   ],
   "source": [
    "history2=model2.fit(X_train, y_train, epochs=20, validation_data=(X_test, y_test), callbacks=callbacks, batch_size=8)"
   ]
  },
  {
   "cell_type": "code",
   "execution_count": null,
   "id": "48b4fa43",
   "metadata": {},
   "outputs": [],
   "source": []
  }
 ],
 "metadata": {
  "kernelspec": {
   "display_name": "Python 3 (ipykernel)",
   "language": "python",
   "name": "python3"
  },
  "language_info": {
   "codemirror_mode": {
    "name": "ipython",
    "version": 3
   },
   "file_extension": ".py",
   "mimetype": "text/x-python",
   "name": "python",
   "nbconvert_exporter": "python",
   "pygments_lexer": "ipython3",
   "version": "3.7.0"
  },
  "latex_envs": {
   "LaTeX_envs_menu_present": true,
   "autoclose": false,
   "autocomplete": true,
   "bibliofile": "biblio.bib",
   "cite_by": "apalike",
   "current_citInitial": 1,
   "eqLabelWithNumbers": true,
   "eqNumInitial": 1,
   "hotkeys": {
    "equation": "Ctrl-E",
    "itemize": "Ctrl-I"
   },
   "labels_anchors": false,
   "latex_user_defs": false,
   "report_style_numbering": false,
   "user_envs_cfg": false
  }
 },
 "nbformat": 4,
 "nbformat_minor": 5
}
