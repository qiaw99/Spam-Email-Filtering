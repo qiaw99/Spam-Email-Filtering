{
 "cells": [
  {
   "cell_type": "code",
   "execution_count": 1,
   "id": "0e373adf",
   "metadata": {
    "ExecuteTime": {
     "end_time": "2022-06-20T15:47:28.098651Z",
     "start_time": "2022-06-20T15:47:25.299630Z"
    }
   },
   "outputs": [],
   "source": [
    "import numpy as np\n",
    "import gensim\n",
    "import tensorflow as tf"
   ]
  },
  {
   "cell_type": "code",
   "execution_count": 2,
   "id": "eb22692f",
   "metadata": {
    "ExecuteTime": {
     "end_time": "2022-06-20T15:47:34.725551Z",
     "start_time": "2022-06-20T15:47:28.099651Z"
    }
   },
   "outputs": [
    {
     "name": "stdout",
     "output_type": "stream",
     "text": [
      "['text', 'spam']\n",
      "5728\n",
      "5728\n",
      "5728\n",
      "[\"Subject: naturally irresistible your corporate identity  lt is really hard to recollect a company : the  market is full of suqgestions and the information isoverwhelminq ; but a good  catchy logo , stylish statlonery and outstanding website  will make the task much easier .  we do not promise that havinq ordered a iogo your  company will automaticaily become a world ieader : it isguite ciear that  without good products , effective business organization and practicable aim it  will be hotat nowadays market ; but we do promise that your marketing efforts  will become much more effective . here is the list of clear  benefits : creativeness : hand - made , original logos , specially done  to reflect your distinctive company image . convenience : logo and stationery  are provided in all formats ; easy - to - use content management system letsyou  change your website content and even its structure . promptness : you  will see logo drafts within three business days . affordability : your  marketing break - through shouldn ' t make gaps in your budget . 100 % satisfaction  guaranteed : we provide unlimited amount of changes with no extra fees for you to  be surethat you will love the result of this collaboration . have a look at our  portfolio _ _ _ _ _ _ _ _ _ _ _ _ _ _ _ _ _ _ _ _ _ _ _ _ _ _ _ _ _ _ _ _ _ _ _ _ _ _ _ _ _ _ _ _ _ _ _ _ _ _ _ _ not interested . . . _ _ _ _ _ _ _ _ _ _ _ _ _ _ _ _ _ _ _ _ _ _ _ _ _ _ _ _ _ _ _ _ _ _ _ _ _ _ _ _ _ _ _ _ _ _ _ _ _ _ _ _\", 'Subject: the stock trading gunslinger  fanny is merrill but muzo not colza attainder and penultimate like esmark perspicuous ramble is segovia not group try slung kansas tanzania yes chameleon or continuant clothesman no  libretto is chesapeake but tight not waterway herald and hawthorn like chisel morristown superior is deoxyribonucleic not clockwork try hall incredible mcdougall yes hepburn or einsteinian earmark no  sapling is boar but duane not plain palfrey and inflexible like huzzah pepperoni bedtime is nameable not attire try edt chronography optima yes pirogue or diffusion albeit no ', 'Subject: unbelievable new homes made easy  im wanting to show you this  homeowner  you have been pre - approved for a $ 454 , 169 home loan at a 3 . 72 fixed rate .  this offer is being extended to you unconditionally and your credit is in no way a factor .  to take advantage of this limited time opportunity  all we ask is that you visit our website and complete  the 1 minute post approval form  look foward to hearing from you ,  dorcas pittman', 'Subject: 4 color printing special  request additional information now ! click here  click here for a printable version of our order form ( pdf format )  phone : ( 626 ) 338 - 8090 fax : ( 626 ) 338 - 8102 e - mail : ramsey @ goldengraphix . com  request additional information now ! click here  click here for a printable version of our order form ( pdf format )  golden graphix & printing 5110 azusa canyon rd . irwindale , ca 91706 this e - mail message is an advertisement and / or solicitation . ', \"Subject: do not have money , get software cds from here !  software compatibility . . . . ain ' t it great ?  grow old along with me the best is yet to be .  all tradgedies are finish ' d by death . all comedies are ended by marriage .\"]\n",
      "Counter({0: 4360, 1: 1368})\n"
     ]
    },
    {
     "data": {
      "image/png": "[encoded data removed]",
      "text/plain": [
       "<Figure size 432x288 with 1 Axes>"
      ]
     },
     "metadata": {
      "needs_background": "light"
     },
     "output_type": "display_data"
    },
    {
     "name": "stdout",
     "output_type": "stream",
     "text": [
      "Punctuation: :\n",
      "Punctuation: ;\n",
      "Punctuation: ,\n",
      "Punctuation: .\n",
      "Punctuation: -\n",
      "Punctuation: '\n",
      "Punctuation: %\n",
      "Punctuation: _\n",
      "Punctuation: $\n",
      "Punctuation: !\n",
      "Punctuation: (\n",
      "Punctuation: )\n",
      "Punctuation: @\n",
      "Punctuation: &\n",
      "Punctuation: /\n",
      "Punctuation: ?\n",
      "Punctuation: |\n",
      "Punctuation: *\n",
      "Punctuation: \"\n",
      "Punctuation: +\n",
      "Punctuation: =\n",
      "Punctuation: >\n",
      "Punctuation: #\n",
      "Punctuation: [\n",
      "Punctuation: ]\n",
      "Punctuation: ^\n",
      "Punctuation: }\n",
      "Punctuation: <\n",
      "Punctuation: ~\n",
      "Punctuation: \\\n",
      "Punctuation: `\n",
      "Punctuation: {\n",
      "32\n",
      "[':', ';', ',', '.', '-', \"'\", '%', '_', '$', '!', '(', ')', '@', '&', '/', '?', '|', '*', '\"', '+', '=', '>', '#', '[', ']', '^', '}', '<', '~', '\\\\', '`', '{']\n",
      "[('', 475161), ('the', 50110), ('to', 41734), ('and', 27478), ('of', 23757), ('a', 19943), ('you', 19149), ('in', 17972), ('i', 17421), ('for', 16696)]\n"
     ]
    },
    {
     "data": {
      "image/png": "[encoded data removed]",
      "text/plain": [
       "<Figure size 432x288 with 1 Axes>"
      ]
     },
     "metadata": {
      "needs_background": "light"
     },
     "output_type": "display_data"
    },
    {
     "name": "stdout",
     "output_type": "stream",
     "text": [
      "5728\n",
      "Punctuation: :\n",
      "Punctuation: ;\n",
      "Punctuation: ,\n",
      "Punctuation: .\n",
      "Punctuation: -\n",
      "Punctuation: '\n",
      "Punctuation: %\n",
      "Punctuation: _\n",
      "Punctuation: $\n",
      "Punctuation: !\n",
      "Punctuation: (\n",
      "Punctuation: )\n",
      "Punctuation: @\n",
      "Punctuation: &\n",
      "Punctuation: /\n",
      "Punctuation: ?\n",
      "Punctuation: |\n",
      "Punctuation: *\n",
      "Punctuation: \"\n",
      "Punctuation: +\n",
      "Punctuation: =\n",
      "Punctuation: >\n",
      "Punctuation: #\n",
      "Punctuation: [\n",
      "Punctuation: ]\n",
      "Punctuation: ^\n",
      "Punctuation: }\n",
      "Punctuation: <\n",
      "Punctuation: ~\n",
      "Punctuation: \\\n",
      "Punctuation: `\n",
      "Punctuation: {\n",
      "[':', ';', ',', '.', '-', \"'\", '%', '_', '$', '!', '(', ')', '@', '&', '/', '?', '|', '*', '\"', '+', '=', '>', '#', '[', ']', '^', '}', '<', '~', '\\\\', '`', '{']\n"
     ]
    }
   ],
   "source": [
    "from ipynb.fs.full.preprocessing import processRef\n",
    "from ipynb.fs.full.data_analysis import readData, flatten_input, detect_punctuations"
   ]
  },
  {
   "cell_type": "code",
   "execution_count": 3,
   "id": "70ebbcab",
   "metadata": {
    "ExecuteTime": {
     "end_time": "2022-06-20T15:47:36.794631Z",
     "start_time": "2022-06-20T15:47:34.728317Z"
    }
   },
   "outputs": [
    {
     "name": "stdout",
     "output_type": "stream",
     "text": [
      "5728\n"
     ]
    }
   ],
   "source": [
    "X, _ = readData(\"./data/Spam_Emails.csv\")\n",
    "concatenate_string, X_copy = flatten_input(X)\n",
    "new_refs = processRef(X_copy) "
   ]
  },
  {
   "cell_type": "code",
   "execution_count": 4,
   "id": "7ec8e541",
   "metadata": {
    "ExecuteTime": {
     "end_time": "2022-06-20T15:47:36.810615Z",
     "start_time": "2022-06-20T15:47:36.795634Z"
    }
   },
   "outputs": [],
   "source": [
    "y = np.load(\"./data/classes.npy\")"
   ]
  },
  {
   "cell_type": "code",
   "execution_count": 5,
   "id": "808a93e3",
   "metadata": {
    "ExecuteTime": {
     "end_time": "2022-06-20T15:47:36.918737Z",
     "start_time": "2022-06-20T15:47:36.812622Z"
    }
   },
   "outputs": [],
   "source": [
    "from sklearn.model_selection import train_test_split\n",
    "X_train, X_test, y_train, y_test = train_test_split(new_refs, y, test_size=0.2, random_state=42)\n"
   ]
  },
  {
   "cell_type": "code",
   "execution_count": 6,
   "id": "7b89cb31",
   "metadata": {
    "ExecuteTime": {
     "end_time": "2022-06-20T15:47:36.934717Z",
     "start_time": "2022-06-20T15:47:36.919728Z"
    }
   },
   "outputs": [
    {
     "name": "stdout",
     "output_type": "stream",
     "text": [
      "4582\n",
      "4582\n",
      "1146\n",
      "1146\n"
     ]
    }
   ],
   "source": [
    "print(len(X_train))\n",
    "print(len(y_train))\n",
    "print(len(X_test))\n",
    "print(len(y_test))"
   ]
  },
  {
   "cell_type": "code",
   "execution_count": 7,
   "id": "de71974f",
   "metadata": {
    "ExecuteTime": {
     "end_time": "2022-06-20T15:47:37.467257Z",
     "start_time": "2022-06-20T15:47:36.936419Z"
    }
   },
   "outputs": [],
   "source": [
    "vocab_size = 1000\n",
    "embedding_dim = 16\n",
    "max_length = 100\n",
    "trunc_type='post'\n",
    "padding_type='post'\n",
    "oov_tok = \"<OOV>\"\n",
    "from tensorflow.keras.preprocessing.text import Tokenizer\n",
    "from tensorflow.keras.preprocessing.sequence import pad_sequences\n",
    "tokenizer = Tokenizer(num_words = vocab_size, oov_token=oov_tok)\n",
    "tokenizer.fit_on_texts(X_train)\n",
    "word_index = tokenizer.word_index"
   ]
  },
  {
   "cell_type": "code",
   "execution_count": 8,
   "id": "0fc7a047",
   "metadata": {
    "ExecuteTime": {
     "end_time": "2022-06-20T15:47:37.809252Z",
     "start_time": "2022-06-20T15:47:37.468258Z"
    }
   },
   "outputs": [],
   "source": [
    "sequences = tokenizer.texts_to_sequences(X_train)"
   ]
  },
  {
   "cell_type": "code",
   "execution_count": 9,
   "id": "d739ffc5",
   "metadata": {
    "ExecuteTime": {
     "end_time": "2022-06-20T15:47:37.933669Z",
     "start_time": "2022-06-20T15:47:37.811265Z"
    }
   },
   "outputs": [],
   "source": [
    "padded = pad_sequences(sequences,maxlen=max_length, padding=padding_type, \n",
    "                       truncating=trunc_type)\n",
    "testing_sequences = tokenizer.texts_to_sequences(X_test)\n",
    "testing_padded = pad_sequences(testing_sequences,maxlen=max_length, padding=padding_type, truncating=trunc_type)"
   ]
  },
  {
   "cell_type": "code",
   "execution_count": 10,
   "id": "4a30f9f4",
   "metadata": {
    "ExecuteTime": {
     "end_time": "2022-06-20T15:47:37.948386Z",
     "start_time": "2022-06-20T15:47:37.935676Z"
    }
   },
   "outputs": [],
   "source": [
    "import keras.backend as K\n",
    "\n",
    "def f1_metric(y_true, y_pred):\n",
    "    true_positives = K.sum(K.round(K.clip(y_true * y_pred, 0, 1)))\n",
    "    possible_positives = K.sum(K.round(K.clip(y_true, 0, 1)))\n",
    "    predicted_positives = K.sum(K.round(K.clip(y_pred, 0, 1)))\n",
    "    precision = true_positives / (predicted_positives + K.epsilon())\n",
    "    recall = true_positives / (possible_positives + K.epsilon())\n",
    "    f1_val = 2*(precision*recall)/(precision+recall+K.epsilon())\n",
    "    return f1_val"
   ]
  },
  {
   "cell_type": "code",
   "execution_count": 11,
   "id": "d2e488c3",
   "metadata": {
    "ExecuteTime": {
     "end_time": "2022-06-20T15:47:37.963700Z",
     "start_time": "2022-06-20T15:47:37.949691Z"
    }
   },
   "outputs": [],
   "source": [
    "def scheduler(epoch, lr):\n",
    "        if epoch < 5:\n",
    "            return lr\n",
    "        else:\n",
    "            return lr * tf.math.exp(-0.1)"
   ]
  },
  {
   "cell_type": "code",
   "execution_count": 12,
   "id": "cabbdb90",
   "metadata": {
    "ExecuteTime": {
     "end_time": "2022-06-20T15:47:37.978840Z",
     "start_time": "2022-06-20T15:47:37.965706Z"
    }
   },
   "outputs": [],
   "source": [
    "callbacks = [tf.keras.callbacks.EarlyStopping(monitor='val_accuracy', patience=3), \n",
    "                    tf.keras.callbacks.LearningRateScheduler(scheduler, verbose=1)]"
   ]
  },
  {
   "cell_type": "code",
   "execution_count": 13,
   "id": "3d35d73f",
   "metadata": {
    "ExecuteTime": {
     "end_time": "2022-06-20T15:47:38.057595Z",
     "start_time": "2022-06-20T15:47:37.980846Z"
    }
   },
   "outputs": [
    {
     "name": "stdout",
     "output_type": "stream",
     "text": [
      "Model: \"sequential\"\n",
      "_________________________________________________________________\n",
      " Layer (type)                Output Shape              Param #   \n",
      "=================================================================\n",
      " embedding (Embedding)       (None, 100, 16)           16000     \n",
      "                                                                 \n",
      " flatten (Flatten)           (None, 1600)              0         \n",
      "                                                                 \n",
      " dense (Dense)               (None, 6)                 9606      \n",
      "                                                                 \n",
      " dense_1 (Dense)             (None, 1)                 7         \n",
      "                                                                 \n",
      "=================================================================\n",
      "Total params: 25,613\n",
      "Trainable params: 25,613\n",
      "Non-trainable params: 0\n",
      "_________________________________________________________________\n"
     ]
    }
   ],
   "source": [
    "model = tf.keras.Sequential([\n",
    "    tf.keras.layers.Embedding(vocab_size, embedding_dim, input_length=max_length),\n",
    "    tf.keras.layers.Flatten(),\n",
    "    tf.keras.layers.Dense(6, activation='relu'),\n",
    "    tf.keras.layers.Dense(1, activation='sigmoid')\n",
    "])\n",
    "model.compile(loss='binary_crossentropy',optimizer=tf.keras.optimizers.SGD(momentum=0.9),metrics=['accuracy', f1_metric])\n",
    "model.summary()"
   ]
  },
  {
   "cell_type": "code",
   "execution_count": 14,
   "id": "31d959cb",
   "metadata": {
    "ExecuteTime": {
     "end_time": "2022-06-20T15:47:42.790613Z",
     "start_time": "2022-06-20T15:47:38.059601Z"
    }
   },
   "outputs": [
    {
     "name": "stdout",
     "output_type": "stream",
     "text": [
      "\n",
      "Epoch 1: LearningRateScheduler setting learning rate to 0.009999999776482582.\n",
      "Epoch 1/20\n",
      "144/144 [==============================] - 1s 3ms/step - loss: 0.5613 - accuracy: 0.7538 - f1_metric: 0.0201 - val_loss: 0.5361 - val_accuracy: 0.7469 - val_f1_metric: 0.0000e+00 - lr: 0.0100\n",
      "\n",
      "Epoch 2: LearningRateScheduler setting learning rate to 0.009999999776482582.\n",
      "Epoch 2/20\n",
      "144/144 [==============================] - 0s 2ms/step - loss: 0.4260 - accuracy: 0.8047 - f1_metric: 0.2880 - val_loss: 0.3430 - val_accuracy: 0.8421 - val_f1_metric: 0.5541 - lr: 0.0100\n",
      "\n",
      "Epoch 3: LearningRateScheduler setting learning rate to 0.009999999776482582.\n",
      "Epoch 3/20\n",
      "144/144 [==============================] - 0s 2ms/step - loss: 0.2717 - accuracy: 0.8865 - f1_metric: 0.7209 - val_loss: 0.2347 - val_accuracy: 0.9162 - val_f1_metric: 0.8253 - lr: 0.0100\n",
      "\n",
      "Epoch 4: LearningRateScheduler setting learning rate to 0.009999999776482582.\n",
      "Epoch 4/20\n",
      "144/144 [==============================] - 0s 2ms/step - loss: 0.1982 - accuracy: 0.9210 - f1_metric: 0.8105 - val_loss: 0.2654 - val_accuracy: 0.8761 - val_f1_metric: 0.6698 - lr: 0.0100\n",
      "\n",
      "Epoch 5: LearningRateScheduler setting learning rate to 0.009999999776482582.\n",
      "Epoch 5/20\n",
      "144/144 [==============================] - 0s 2ms/step - loss: 0.1554 - accuracy: 0.9389 - f1_metric: 0.8530 - val_loss: 0.1841 - val_accuracy: 0.9206 - val_f1_metric: 0.8175 - lr: 0.0100\n",
      "\n",
      "Epoch 6: LearningRateScheduler setting learning rate to 0.009048374369740486.\n",
      "Epoch 6/20\n",
      "144/144 [==============================] - 0s 2ms/step - loss: 0.1109 - accuracy: 0.9598 - f1_metric: 0.9054 - val_loss: 0.1416 - val_accuracy: 0.9380 - val_f1_metric: 0.8552 - lr: 0.0090\n",
      "\n",
      "Epoch 7: LearningRateScheduler setting learning rate to 0.008187307976186275.\n",
      "Epoch 7/20\n",
      "144/144 [==============================] - 0s 2ms/step - loss: 0.0964 - accuracy: 0.9636 - f1_metric: 0.9150 - val_loss: 0.1242 - val_accuracy: 0.9529 - val_f1_metric: 0.8985 - lr: 0.0082\n",
      "\n",
      "Epoch 8: LearningRateScheduler setting learning rate to 0.007408182602375746.\n",
      "Epoch 8/20\n",
      "144/144 [==============================] - 0s 2ms/step - loss: 0.0848 - accuracy: 0.9705 - f1_metric: 0.9357 - val_loss: 0.1503 - val_accuracy: 0.9354 - val_f1_metric: 0.8455 - lr: 0.0074\n",
      "\n",
      "Epoch 9: LearningRateScheduler setting learning rate to 0.006703200750052929.\n",
      "Epoch 9/20\n",
      "144/144 [==============================] - 0s 2ms/step - loss: 0.0695 - accuracy: 0.9790 - f1_metric: 0.9512 - val_loss: 0.1306 - val_accuracy: 0.9442 - val_f1_metric: 0.8668 - lr: 0.0067\n",
      "\n",
      "Epoch 10: LearningRateScheduler setting learning rate to 0.006065306719392538.\n",
      "Epoch 10/20\n",
      "144/144 [==============================] - 0s 2ms/step - loss: 0.0571 - accuracy: 0.9825 - f1_metric: 0.9617 - val_loss: 0.1118 - val_accuracy: 0.9634 - val_f1_metric: 0.9294 - lr: 0.0061\n",
      "\n",
      "Epoch 11: LearningRateScheduler setting learning rate to 0.005488116759806871.\n",
      "Epoch 11/20\n",
      "144/144 [==============================] - 0s 2ms/step - loss: 0.0587 - accuracy: 0.9810 - f1_metric: 0.9494 - val_loss: 0.0994 - val_accuracy: 0.9607 - val_f1_metric: 0.9173 - lr: 0.0055\n",
      "\n",
      "Epoch 12: LearningRateScheduler setting learning rate to 0.004965853411704302.\n",
      "Epoch 12/20\n",
      "144/144 [==============================] - 0s 2ms/step - loss: 0.0483 - accuracy: 0.9878 - f1_metric: 0.9721 - val_loss: 0.0985 - val_accuracy: 0.9642 - val_f1_metric: 0.9258 - lr: 0.0050\n",
      "\n",
      "Epoch 13: LearningRateScheduler setting learning rate to 0.004493290092796087.\n",
      "Epoch 13/20\n",
      "144/144 [==============================] - 0s 2ms/step - loss: 0.0433 - accuracy: 0.9897 - f1_metric: 0.9783 - val_loss: 0.0946 - val_accuracy: 0.9660 - val_f1_metric: 0.9273 - lr: 0.0045\n",
      "\n",
      "Epoch 14: LearningRateScheduler setting learning rate to 0.004065697081387043.\n",
      "Epoch 14/20\n",
      "144/144 [==============================] - 0s 2ms/step - loss: 0.0397 - accuracy: 0.9908 - f1_metric: 0.9791 - val_loss: 0.0985 - val_accuracy: 0.9616 - val_f1_metric: 0.9183 - lr: 0.0041\n",
      "\n",
      "Epoch 15: LearningRateScheduler setting learning rate to 0.003678794950246811.\n",
      "Epoch 15/20\n",
      "144/144 [==============================] - 0s 2ms/step - loss: 0.0337 - accuracy: 0.9932 - f1_metric: 0.9850 - val_loss: 0.0933 - val_accuracy: 0.9634 - val_f1_metric: 0.9232 - lr: 0.0037\n",
      "\n",
      "Epoch 16: LearningRateScheduler setting learning rate to 0.00332871126011014.\n",
      "Epoch 16/20\n",
      "144/144 [==============================] - 0s 2ms/step - loss: 0.0328 - accuracy: 0.9924 - f1_metric: 0.9834 - val_loss: 0.0940 - val_accuracy: 0.9616 - val_f1_metric: 0.9192 - lr: 0.0033\n"
     ]
    }
   ],
   "source": [
    "history=model.fit(padded, y_train, epochs=20, validation_data=(testing_padded, y_test),callbacks=callbacks)"
   ]
  },
  {
   "cell_type": "code",
   "execution_count": 15,
   "id": "175b76cf",
   "metadata": {
    "ExecuteTime": {
     "end_time": "2022-06-20T15:47:42.978639Z",
     "start_time": "2022-06-20T15:47:42.792615Z"
    }
   },
   "outputs": [
    {
     "data": {
      "image/png": "[encoded data removed]",
      "text/plain": [
       "<Figure size 432x288 with 1 Axes>"
      ]
     },
     "metadata": {
      "needs_background": "light"
     },
     "output_type": "display_data"
    },
    {
     "data": {
      "image/png": "[encoded data removed]",
      "text/plain": [
       "<Figure size 432x288 with 1 Axes>"
      ]
     },
     "metadata": {
      "needs_background": "light"
     },
     "output_type": "display_data"
    }
   ],
   "source": [
    "from matplotlib import pyplot as plt \n",
    "plt.plot(history.history['accuracy'], label='accuracy')\n",
    "plt.plot(history.history['val_accuracy'], label = 'val_accuracy')\n",
    "plt.xlabel('Epoch')\n",
    "plt.ylabel('Accuracy')\n",
    "plt.ylim([0.8, 1])\n",
    "plt.legend(loc='lower right')\n",
    "plt.show()\n",
    "\n",
    "plt.plot(history.history['loss'])\n",
    "plt.plot(history.history['val_loss'])\n",
    "plt.title('Loss vs. epochs')\n",
    "plt.ylabel('Loss')\n",
    "plt.xlabel('Epoch')\n",
    "plt.legend(['Training', 'Validation'], loc='upper right')\n",
    "plt.show()"
   ]
  },
  {
   "cell_type": "code",
   "execution_count": 16,
   "id": "646bad5d",
   "metadata": {
    "ExecuteTime": {
     "end_time": "2022-06-20T15:47:42.993636Z",
     "start_time": "2022-06-20T15:47:42.979636Z"
    }
   },
   "outputs": [
    {
     "name": "stdout",
     "output_type": "stream",
     "text": [
      "Number of mislabeled points out of a total 1146 points : 407\n"
     ]
    }
   ],
   "source": [
    "from sklearn.naive_bayes import GaussianNB\n",
    "\n",
    "gnb = GaussianNB()\n",
    "padded = np.array(padded)\n",
    "y_train = np.array(y_train)\n",
    "y_test = np.array(y_test)\n",
    "testing_padded = np.array(testing_padded)\n",
    "y_pred = gnb.fit(padded, y_train).predict(testing_padded)\n",
    "print(\"Number of mislabeled points out of a total %d points : %d\"% (testing_padded.shape[0], (y_test != y_pred).sum()))\n"
   ]
  },
  {
   "cell_type": "code",
   "execution_count": 17,
   "id": "b4b077b9",
   "metadata": {
    "ExecuteTime": {
     "end_time": "2022-06-20T15:47:43.008634Z",
     "start_time": "2022-06-20T15:47:42.994637Z"
    }
   },
   "outputs": [
    {
     "data": {
      "text/plain": [
       "0.5906521435774297"
      ]
     },
     "execution_count": 17,
     "metadata": {},
     "output_type": "execute_result"
    }
   ],
   "source": [
    "from sklearn.metrics import f1_score\n",
    "\n",
    "f1_score(y_test, y_pred, average='macro')"
   ]
  },
  {
   "cell_type": "code",
   "execution_count": null,
   "id": "80782cc7",
   "metadata": {},
   "outputs": [],
   "source": []
  }
 ],
 "metadata": {
  "kernelspec": {
   "display_name": "Python 3 (ipykernel)",
   "language": "python",
   "name": "python3"
  },
  "language_info": {
   "codemirror_mode": {
    "name": "ipython",
    "version": 3
   },
   "file_extension": ".py",
   "mimetype": "text/x-python",
   "name": "python",
   "nbconvert_exporter": "python",
   "pygments_lexer": "ipython3",
   "version": "3.7.0"
  },
  "latex_envs": {
   "LaTeX_envs_menu_present": true,
   "autoclose": false,
   "autocomplete": true,
   "bibliofile": "biblio.bib",
   "cite_by": "apalike",
   "current_citInitial": 1,
   "eqLabelWithNumbers": true,
   "eqNumInitial": 1,
   "hotkeys": {
    "equation": "Ctrl-E",
    "itemize": "Ctrl-I"
   },
   "labels_anchors": false,
   "latex_user_defs": false,
   "report_style_numbering": false,
   "user_envs_cfg": false
  }
 },
 "nbformat": 4,
 "nbformat_minor": 5
}
