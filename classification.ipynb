{
 "cells": [
  {
   "cell_type": "code",
   "execution_count": 1,
   "id": "13e505ba",
   "metadata": {
    "ExecuteTime": {
     "end_time": "2022-06-21T12:35:47.769269Z",
     "start_time": "2022-06-21T12:35:43.711357Z"
    }
   },
   "outputs": [],
   "source": [
    "import numpy as np\n",
    "import gensim\n",
    "import tensorflow as tf"
   ]
  },
  {
   "cell_type": "code",
   "execution_count": 2,
   "id": "e9b19a08",
   "metadata": {
    "ExecuteTime": {
     "end_time": "2022-06-21T12:35:55.101027Z",
     "start_time": "2022-06-21T12:35:47.770273Z"
    }
   },
   "outputs": [
    {
     "name": "stdout",
     "output_type": "stream",
     "text": [
      "['text', 'spam']\n",
      "5728\n",
      "5728\n",
      "5728\n",
      "[\"Subject: naturally irresistible your corporate identity  lt is really hard to recollect a company : the  market is full of suqgestions and the information isoverwhelminq ; but a good  catchy logo , stylish statlonery and outstanding website  will make the task much easier .  we do not promise that havinq ordered a iogo your  company will automaticaily become a world ieader : it isguite ciear that  without good products , effective business organization and practicable aim it  will be hotat nowadays market ; but we do promise that your marketing efforts  will become much more effective . here is the list of clear  benefits : creativeness : hand - made , original logos , specially done  to reflect your distinctive company image . convenience : logo and stationery  are provided in all formats ; easy - to - use content management system letsyou  change your website content and even its structure . promptness : you  will see logo drafts within three business days . affordability : your  marketing break - through shouldn ' t make gaps in your budget . 100 % satisfaction  guaranteed : we provide unlimited amount of changes with no extra fees for you to  be surethat you will love the result of this collaboration . have a look at our  portfolio _ _ _ _ _ _ _ _ _ _ _ _ _ _ _ _ _ _ _ _ _ _ _ _ _ _ _ _ _ _ _ _ _ _ _ _ _ _ _ _ _ _ _ _ _ _ _ _ _ _ _ _ not interested . . . _ _ _ _ _ _ _ _ _ _ _ _ _ _ _ _ _ _ _ _ _ _ _ _ _ _ _ _ _ _ _ _ _ _ _ _ _ _ _ _ _ _ _ _ _ _ _ _ _ _ _ _\", 'Subject: the stock trading gunslinger  fanny is merrill but muzo not colza attainder and penultimate like esmark perspicuous ramble is segovia not group try slung kansas tanzania yes chameleon or continuant clothesman no  libretto is chesapeake but tight not waterway herald and hawthorn like chisel morristown superior is deoxyribonucleic not clockwork try hall incredible mcdougall yes hepburn or einsteinian earmark no  sapling is boar but duane not plain palfrey and inflexible like huzzah pepperoni bedtime is nameable not attire try edt chronography optima yes pirogue or diffusion albeit no ', 'Subject: unbelievable new homes made easy  im wanting to show you this  homeowner  you have been pre - approved for a $ 454 , 169 home loan at a 3 . 72 fixed rate .  this offer is being extended to you unconditionally and your credit is in no way a factor .  to take advantage of this limited time opportunity  all we ask is that you visit our website and complete  the 1 minute post approval form  look foward to hearing from you ,  dorcas pittman', 'Subject: 4 color printing special  request additional information now ! click here  click here for a printable version of our order form ( pdf format )  phone : ( 626 ) 338 - 8090 fax : ( 626 ) 338 - 8102 e - mail : ramsey @ goldengraphix . com  request additional information now ! click here  click here for a printable version of our order form ( pdf format )  golden graphix & printing 5110 azusa canyon rd . irwindale , ca 91706 this e - mail message is an advertisement and / or solicitation . ', \"Subject: do not have money , get software cds from here !  software compatibility . . . . ain ' t it great ?  grow old along with me the best is yet to be .  all tradgedies are finish ' d by death . all comedies are ended by marriage .\"]\n",
      "Counter({0: 4360, 1: 1368})\n"
     ]
    },
    {
     "data": {
      "image/png": "[encoded data removed]",
      "text/plain": [
       "<Figure size 432x288 with 1 Axes>"
      ]
     },
     "metadata": {
      "needs_background": "light"
     },
     "output_type": "display_data"
    },
    {
     "name": "stdout",
     "output_type": "stream",
     "text": [
      "Punctuation: :\n",
      "Punctuation: ;\n",
      "Punctuation: ,\n",
      "Punctuation: .\n",
      "Punctuation: -\n",
      "Punctuation: '\n",
      "Punctuation: %\n",
      "Punctuation: _\n",
      "Punctuation: $\n",
      "Punctuation: !\n",
      "Punctuation: (\n",
      "Punctuation: )\n",
      "Punctuation: @\n",
      "Punctuation: &\n",
      "Punctuation: /\n",
      "Punctuation: ?\n",
      "Punctuation: |\n",
      "Punctuation: *\n",
      "Punctuation: \"\n",
      "Punctuation: +\n",
      "Punctuation: =\n",
      "Punctuation: >\n",
      "Punctuation: #\n",
      "Punctuation: [\n",
      "Punctuation: ]\n",
      "Punctuation: ^\n",
      "Punctuation: }\n",
      "Punctuation: <\n",
      "Punctuation: ~\n",
      "Punctuation: \\\n",
      "Punctuation: `\n",
      "Punctuation: {\n",
      "32\n",
      "[':', ';', ',', '.', '-', \"'\", '%', '_', '$', '!', '(', ')', '@', '&', '/', '?', '|', '*', '\"', '+', '=', '>', '#', '[', ']', '^', '}', '<', '~', '\\\\', '`', '{']\n",
      "[('', 475161), ('the', 50110), ('to', 41734), ('and', 27478), ('of', 23757), ('a', 19943), ('you', 19149), ('in', 17972), ('i', 17421), ('for', 16696)]\n"
     ]
    },
    {
     "data": {
      "image/png": "[encoded data removed]",
      "text/plain": [
       "<Figure size 432x288 with 1 Axes>"
      ]
     },
     "metadata": {
      "needs_background": "light"
     },
     "output_type": "display_data"
    },
    {
     "name": "stdout",
     "output_type": "stream",
     "text": [
      "5728\n",
      "Punctuation: :\n",
      "Punctuation: ;\n",
      "Punctuation: ,\n",
      "Punctuation: .\n",
      "Punctuation: -\n",
      "Punctuation: '\n",
      "Punctuation: %\n",
      "Punctuation: _\n",
      "Punctuation: $\n",
      "Punctuation: !\n",
      "Punctuation: (\n",
      "Punctuation: )\n",
      "Punctuation: @\n",
      "Punctuation: &\n",
      "Punctuation: /\n",
      "Punctuation: ?\n",
      "Punctuation: |\n",
      "Punctuation: *\n",
      "Punctuation: \"\n",
      "Punctuation: +\n",
      "Punctuation: =\n",
      "Punctuation: >\n",
      "Punctuation: #\n",
      "Punctuation: [\n",
      "Punctuation: ]\n",
      "Punctuation: ^\n",
      "Punctuation: }\n",
      "Punctuation: <\n",
      "Punctuation: ~\n",
      "Punctuation: \\\n",
      "Punctuation: `\n",
      "Punctuation: {\n",
      "[':', ';', ',', '.', '-', \"'\", '%', '_', '$', '!', '(', ')', '@', '&', '/', '?', '|', '*', '\"', '+', '=', '>', '#', '[', ']', '^', '}', '<', '~', '\\\\', '`', '{']\n"
     ]
    }
   ],
   "source": [
    "from ipynb.fs.full.preprocessing import processRef\n",
    "from ipynb.fs.full.data_analysis import readData, flatten_input, detect_punctuations"
   ]
  },
  {
   "cell_type": "code",
   "execution_count": 3,
   "id": "76fce31d",
   "metadata": {
    "ExecuteTime": {
     "end_time": "2022-06-21T12:35:57.361433Z",
     "start_time": "2022-06-21T12:35:55.104037Z"
    }
   },
   "outputs": [
    {
     "name": "stdout",
     "output_type": "stream",
     "text": [
      "5728\n"
     ]
    }
   ],
   "source": [
    "X, _ = readData(\"./data/Spam_Emails.csv\")\n",
    "concatenate_string, X_copy = flatten_input(X)\n",
    "new_refs = processRef(X_copy) "
   ]
  },
  {
   "cell_type": "code",
   "execution_count": 4,
   "id": "a51a5d0f",
   "metadata": {
    "ExecuteTime": {
     "end_time": "2022-06-21T12:35:57.391426Z",
     "start_time": "2022-06-21T12:35:57.363429Z"
    }
   },
   "outputs": [],
   "source": [
    "y = np.load(\"./data/classes.npy\")"
   ]
  },
  {
   "cell_type": "code",
   "execution_count": 5,
   "id": "67b9de9c",
   "metadata": {
    "ExecuteTime": {
     "end_time": "2022-06-21T12:35:57.576426Z",
     "start_time": "2022-06-21T12:35:57.393427Z"
    }
   },
   "outputs": [],
   "source": [
    "from sklearn.model_selection import train_test_split\n",
    "X_train, X_test, y_train, y_test = train_test_split(new_refs, y, test_size=0.2, random_state=42)\n"
   ]
  },
  {
   "cell_type": "code",
   "execution_count": 6,
   "id": "d7a3ce00",
   "metadata": {
    "ExecuteTime": {
     "end_time": "2022-06-21T12:35:57.592432Z",
     "start_time": "2022-06-21T12:35:57.580438Z"
    }
   },
   "outputs": [
    {
     "name": "stdout",
     "output_type": "stream",
     "text": [
      "4582\n",
      "4582\n",
      "1146\n",
      "1146\n"
     ]
    }
   ],
   "source": [
    "print(len(X_train))\n",
    "print(len(y_train))\n",
    "print(len(X_test))\n",
    "print(len(y_test))"
   ]
  },
  {
   "cell_type": "markdown",
   "id": "39f7f0b9",
   "metadata": {},
   "source": [
    "## First approach"
   ]
  },
  {
   "cell_type": "code",
   "execution_count": 7,
   "id": "ebbcecf7",
   "metadata": {
    "ExecuteTime": {
     "end_time": "2022-06-21T12:35:58.202431Z",
     "start_time": "2022-06-21T12:35:57.593433Z"
    }
   },
   "outputs": [],
   "source": [
    "vocab_size = 1000\n",
    "embedding_dim = 16\n",
    "max_length = 100\n",
    "trunc_type='post'\n",
    "padding_type='post'\n",
    "oov_tok = \"<OOV>\"\n",
    "from tensorflow.keras.preprocessing.text import Tokenizer\n",
    "from tensorflow.keras.preprocessing.sequence import pad_sequences\n",
    "tokenizer = Tokenizer(num_words = vocab_size, oov_token=oov_tok)\n",
    "tokenizer.fit_on_texts(X_train)\n",
    "word_index = tokenizer.word_index"
   ]
  },
  {
   "cell_type": "code",
   "execution_count": 8,
   "id": "ce840c89",
   "metadata": {
    "ExecuteTime": {
     "end_time": "2022-06-21T12:35:58.690420Z",
     "start_time": "2022-06-21T12:35:58.204434Z"
    }
   },
   "outputs": [],
   "source": [
    "sequences = tokenizer.texts_to_sequences(X_train)"
   ]
  },
  {
   "cell_type": "code",
   "execution_count": 9,
   "id": "5f95dfc4",
   "metadata": {
    "ExecuteTime": {
     "end_time": "2022-06-21T12:35:58.860418Z",
     "start_time": "2022-06-21T12:35:58.693430Z"
    }
   },
   "outputs": [],
   "source": [
    "padded = pad_sequences(sequences,maxlen=max_length, padding=padding_type, \n",
    "                       truncating=trunc_type)\n",
    "testing_sequences = tokenizer.texts_to_sequences(X_test)\n",
    "testing_padded = pad_sequences(testing_sequences,maxlen=max_length, padding=padding_type, truncating=trunc_type)"
   ]
  },
  {
   "cell_type": "code",
   "execution_count": 10,
   "id": "7063c564",
   "metadata": {
    "ExecuteTime": {
     "end_time": "2022-06-21T12:35:58.875418Z",
     "start_time": "2022-06-21T12:35:58.862424Z"
    }
   },
   "outputs": [],
   "source": [
    "import keras.backend as K\n",
    "\n",
    "def f1_metric(y_true, y_pred):\n",
    "    true_positives = K.sum(K.round(K.clip(y_true * y_pred, 0, 1)))\n",
    "    possible_positives = K.sum(K.round(K.clip(y_true, 0, 1)))\n",
    "    predicted_positives = K.sum(K.round(K.clip(y_pred, 0, 1)))\n",
    "    precision = true_positives / (predicted_positives + K.epsilon())\n",
    "    recall = true_positives / (possible_positives + K.epsilon())\n",
    "    f1_val = 2*(precision*recall)/(precision+recall+K.epsilon())\n",
    "    return f1_val"
   ]
  },
  {
   "cell_type": "code",
   "execution_count": 11,
   "id": "1b492312",
   "metadata": {
    "ExecuteTime": {
     "end_time": "2022-06-21T12:35:58.890424Z",
     "start_time": "2022-06-21T12:35:58.877429Z"
    }
   },
   "outputs": [],
   "source": [
    "def scheduler(epoch, lr):\n",
    "        if epoch < 5:\n",
    "            return lr\n",
    "        else:\n",
    "            return lr * tf.math.exp(-0.1)"
   ]
  },
  {
   "cell_type": "code",
   "execution_count": 12,
   "id": "144935d7",
   "metadata": {
    "ExecuteTime": {
     "end_time": "2022-06-21T12:35:58.906419Z",
     "start_time": "2022-06-21T12:35:58.893448Z"
    }
   },
   "outputs": [],
   "source": [
    "callbacks = [tf.keras.callbacks.EarlyStopping(monitor='val_accuracy', patience=3), \n",
    "                    tf.keras.callbacks.LearningRateScheduler(scheduler, verbose=1)]"
   ]
  },
  {
   "cell_type": "code",
   "execution_count": 13,
   "id": "e0659353",
   "metadata": {
    "ExecuteTime": {
     "end_time": "2022-06-21T12:35:59.018418Z",
     "start_time": "2022-06-21T12:35:58.909429Z"
    }
   },
   "outputs": [
    {
     "name": "stdout",
     "output_type": "stream",
     "text": [
      "Model: \"sequential\"\n",
      "_________________________________________________________________\n",
      " Layer (type)                Output Shape              Param #   \n",
      "=================================================================\n",
      " embedding (Embedding)       (None, 100, 16)           16000     \n",
      "                                                                 \n",
      " flatten (Flatten)           (None, 1600)              0         \n",
      "                                                                 \n",
      " dense (Dense)               (None, 6)                 9606      \n",
      "                                                                 \n",
      " dense_1 (Dense)             (None, 1)                 7         \n",
      "                                                                 \n",
      "=================================================================\n",
      "Total params: 25,613\n",
      "Trainable params: 25,613\n",
      "Non-trainable params: 0\n",
      "_________________________________________________________________\n"
     ]
    }
   ],
   "source": [
    "def build_model(vocab_size, embedding_dim, max_length):\n",
    "    model = tf.keras.Sequential([\n",
    "        tf.keras.layers.Embedding(vocab_size, embedding_dim, input_length=max_length),\n",
    "        tf.keras.layers.Flatten(),\n",
    "        tf.keras.layers.Dense(6, activation='relu'),\n",
    "        tf.keras.layers.Dense(1, activation='sigmoid')\n",
    "    ])\n",
    "    \n",
    "    return model \n",
    "\n",
    "model = build_model(vocab_size, embedding_dim, max_length)\n",
    "model.compile(loss='binary_crossentropy',optimizer=tf.keras.optimizers.SGD(momentum=0.9),metrics=['accuracy', f1_metric])\n",
    "model.summary()"
   ]
  },
  {
   "cell_type": "code",
   "execution_count": 14,
   "id": "fe0dbe25",
   "metadata": {
    "ExecuteTime": {
     "end_time": "2022-06-21T12:36:03.869534Z",
     "start_time": "2022-06-21T12:35:59.021435Z"
    }
   },
   "outputs": [
    {
     "name": "stdout",
     "output_type": "stream",
     "text": [
      "\n",
      "Epoch 1: LearningRateScheduler setting learning rate to 0.009999999776482582.\n",
      "Epoch 1/20\n",
      "144/144 [==============================] - 1s 3ms/step - loss: 0.5343 - accuracy: 0.7630 - f1_metric: 0.0056 - val_loss: 0.4668 - val_accuracy: 0.7531 - val_f1_metric: 0.0517 - lr: 0.0100\n",
      "\n",
      "Epoch 2: LearningRateScheduler setting learning rate to 0.009999999776482582.\n",
      "Epoch 2/20\n",
      "144/144 [==============================] - 0s 2ms/step - loss: 0.3575 - accuracy: 0.8422 - f1_metric: 0.5100 - val_loss: 0.3081 - val_accuracy: 0.8534 - val_f1_metric: 0.5865 - lr: 0.0100\n",
      "\n",
      "Epoch 3: LearningRateScheduler setting learning rate to 0.009999999776482582.\n",
      "Epoch 3/20\n",
      "144/144 [==============================] - 0s 2ms/step - loss: 0.2428 - accuracy: 0.9027 - f1_metric: 0.7602 - val_loss: 0.2225 - val_accuracy: 0.9075 - val_f1_metric: 0.8012 - lr: 0.0100\n",
      "\n",
      "Epoch 4: LearningRateScheduler setting learning rate to 0.009999999776482582.\n",
      "Epoch 4/20\n",
      "144/144 [==============================] - 0s 2ms/step - loss: 0.1805 - accuracy: 0.9297 - f1_metric: 0.8266 - val_loss: 0.1851 - val_accuracy: 0.9127 - val_f1_metric: 0.7948 - lr: 0.0100\n",
      "\n",
      "Epoch 5: LearningRateScheduler setting learning rate to 0.009999999776482582.\n",
      "Epoch 5/20\n",
      "144/144 [==============================] - 0s 2ms/step - loss: 0.1459 - accuracy: 0.9446 - f1_metric: 0.8686 - val_loss: 0.1798 - val_accuracy: 0.9258 - val_f1_metric: 0.8366 - lr: 0.0100\n",
      "\n",
      "Epoch 6: LearningRateScheduler setting learning rate to 0.009048374369740486.\n",
      "Epoch 6/20\n",
      "144/144 [==============================] - 0s 2ms/step - loss: 0.1140 - accuracy: 0.9603 - f1_metric: 0.8979 - val_loss: 0.1408 - val_accuracy: 0.9485 - val_f1_metric: 0.8946 - lr: 0.0090\n",
      "\n",
      "Epoch 7: LearningRateScheduler setting learning rate to 0.008187307976186275.\n",
      "Epoch 7/20\n",
      "144/144 [==============================] - 0s 2ms/step - loss: 0.0954 - accuracy: 0.9644 - f1_metric: 0.9126 - val_loss: 0.1694 - val_accuracy: 0.9284 - val_f1_metric: 0.8340 - lr: 0.0082\n",
      "\n",
      "Epoch 8: LearningRateScheduler setting learning rate to 0.007408182602375746.\n",
      "Epoch 8/20\n",
      "144/144 [==============================] - 0s 2ms/step - loss: 0.0804 - accuracy: 0.9725 - f1_metric: 0.9313 - val_loss: 0.1288 - val_accuracy: 0.9511 - val_f1_metric: 0.9051 - lr: 0.0074\n",
      "\n",
      "Epoch 9: LearningRateScheduler setting learning rate to 0.006703200750052929.\n",
      "Epoch 9/20\n",
      "144/144 [==============================] - 0s 2ms/step - loss: 0.0697 - accuracy: 0.9771 - f1_metric: 0.9466 - val_loss: 0.1123 - val_accuracy: 0.9634 - val_f1_metric: 0.9264 - lr: 0.0067\n",
      "\n",
      "Epoch 10: LearningRateScheduler setting learning rate to 0.006065306719392538.\n",
      "Epoch 10/20\n",
      "144/144 [==============================] - 0s 2ms/step - loss: 0.0639 - accuracy: 0.9801 - f1_metric: 0.9533 - val_loss: 0.1105 - val_accuracy: 0.9625 - val_f1_metric: 0.9201 - lr: 0.0061\n",
      "\n",
      "Epoch 11: LearningRateScheduler setting learning rate to 0.005488116759806871.\n",
      "Epoch 11/20\n",
      "144/144 [==============================] - 0s 2ms/step - loss: 0.0495 - accuracy: 0.9860 - f1_metric: 0.9670 - val_loss: 0.1356 - val_accuracy: 0.9468 - val_f1_metric: 0.9001 - lr: 0.0055\n",
      "\n",
      "Epoch 12: LearningRateScheduler setting learning rate to 0.004965853411704302.\n",
      "Epoch 12/20\n",
      "144/144 [==============================] - 0s 2ms/step - loss: 0.0496 - accuracy: 0.9841 - f1_metric: 0.9654 - val_loss: 0.0972 - val_accuracy: 0.9668 - val_f1_metric: 0.9296 - lr: 0.0050\n",
      "\n",
      "Epoch 13: LearningRateScheduler setting learning rate to 0.004493290092796087.\n",
      "Epoch 13/20\n",
      "144/144 [==============================] - 0s 2ms/step - loss: 0.0512 - accuracy: 0.9863 - f1_metric: 0.9683 - val_loss: 0.0959 - val_accuracy: 0.9642 - val_f1_metric: 0.9284 - lr: 0.0045\n",
      "\n",
      "Epoch 14: LearningRateScheduler setting learning rate to 0.004065697081387043.\n",
      "Epoch 14/20\n",
      "144/144 [==============================] - 0s 2ms/step - loss: 0.0421 - accuracy: 0.9902 - f1_metric: 0.9774 - val_loss: 0.1110 - val_accuracy: 0.9599 - val_f1_metric: 0.9194 - lr: 0.0041\n",
      "\n",
      "Epoch 15: LearningRateScheduler setting learning rate to 0.003678794950246811.\n",
      "Epoch 15/20\n",
      "144/144 [==============================] - 0s 2ms/step - loss: 0.0445 - accuracy: 0.9882 - f1_metric: 0.9714 - val_loss: 0.1007 - val_accuracy: 0.9607 - val_f1_metric: 0.9174 - lr: 0.0037\n"
     ]
    }
   ],
   "source": [
    "history=model.fit(padded, y_train, epochs=20, validation_data=(testing_padded, y_test),callbacks=callbacks)"
   ]
  },
  {
   "cell_type": "code",
   "execution_count": 15,
   "id": "f1323a83",
   "metadata": {
    "ExecuteTime": {
     "end_time": "2022-06-21T12:36:04.060634Z",
     "start_time": "2022-06-21T12:36:03.871546Z"
    }
   },
   "outputs": [
    {
     "data": {
      "image/png": "[encoded data removed]",
      "text/plain": [
       "<Figure size 432x288 with 1 Axes>"
      ]
     },
     "metadata": {
      "needs_background": "light"
     },
     "output_type": "display_data"
    },
    {
     "data": {
      "image/png": "[encoded data removed]",
      "text/plain": [
       "<Figure size 432x288 with 1 Axes>"
      ]
     },
     "metadata": {
      "needs_background": "light"
     },
     "output_type": "display_data"
    }
   ],
   "source": [
    "from matplotlib import pyplot as plt \n",
    "plt.plot(history.history['accuracy'], label='accuracy')\n",
    "plt.plot(history.history['val_accuracy'], label = 'val_accuracy')\n",
    "plt.xlabel('Epoch')\n",
    "plt.ylabel('Accuracy')\n",
    "plt.ylim([0.8, 1])\n",
    "plt.legend(loc='lower right')\n",
    "plt.show()\n",
    "\n",
    "plt.plot(history.history['loss'])\n",
    "plt.plot(history.history['val_loss'])\n",
    "plt.title('Loss vs. epochs')\n",
    "plt.ylabel('Loss')\n",
    "plt.xlabel('Epoch')\n",
    "plt.legend(['Training', 'Validation'], loc='upper right')\n",
    "plt.show()"
   ]
  },
  {
   "cell_type": "code",
   "execution_count": 16,
   "id": "3825e7b8",
   "metadata": {
    "ExecuteTime": {
     "end_time": "2022-06-21T12:36:04.076635Z",
     "start_time": "2022-06-21T12:36:04.062641Z"
    }
   },
   "outputs": [
    {
     "name": "stdout",
     "output_type": "stream",
     "text": [
      "Number of mislabeled points out of a total 1146 points : 407\n"
     ]
    }
   ],
   "source": [
    "from sklearn.naive_bayes import GaussianNB\n",
    "\n",
    "gnb = GaussianNB()\n",
    "padded = np.array(padded)\n",
    "y_train = np.array(y_train)\n",
    "y_test = np.array(y_test)\n",
    "testing_padded = np.array(testing_padded)\n",
    "y_pred = gnb.fit(padded, y_train).predict(testing_padded)\n",
    "print(\"Number of mislabeled points out of a total %d points : %d\"% (testing_padded.shape[0], (y_test != y_pred).sum()))\n"
   ]
  },
  {
   "cell_type": "code",
   "execution_count": 17,
   "id": "7689f062",
   "metadata": {
    "ExecuteTime": {
     "end_time": "2022-06-21T12:36:04.092635Z",
     "start_time": "2022-06-21T12:36:04.078646Z"
    }
   },
   "outputs": [
    {
     "data": {
      "text/plain": [
       "0.5906521435774297"
      ]
     },
     "execution_count": 17,
     "metadata": {},
     "output_type": "execute_result"
    }
   ],
   "source": [
    "from sklearn.metrics import f1_score\n",
    "\n",
    "f1_score(y_test, y_pred, average='macro')"
   ]
  },
  {
   "cell_type": "markdown",
   "id": "f05e40e0",
   "metadata": {},
   "source": [
    "## Second approach\n"
   ]
  },
  {
   "cell_type": "code",
   "execution_count": 18,
   "id": "7771e3b7",
   "metadata": {
    "ExecuteTime": {
     "end_time": "2022-06-21T12:36:05.388666Z",
     "start_time": "2022-06-21T12:36:04.093642Z"
    }
   },
   "outputs": [],
   "source": [
    "import string\n",
    "\n",
    "new_words = []\n",
    "for word in X:\n",
    "    for letter in word:\n",
    "        if letter in string.punctuation:\n",
    "            word = word.replace(letter,\"\")   \n",
    "    new_words.append(word)"
   ]
  },
  {
   "cell_type": "code",
   "execution_count": 19,
   "id": "a58909a7",
   "metadata": {
    "ExecuteTime": {
     "end_time": "2022-06-21T12:36:06.654737Z",
     "start_time": "2022-06-21T12:36:05.390666Z"
    }
   },
   "outputs": [],
   "source": [
    "from sklearn.feature_extraction.text import TfidfVectorizer\n",
    "import copy\n",
    "\n",
    "bigram_vect = TfidfVectorizer(ngram_range=(1,1))\n",
    "temp = bigram_vect.fit_transform(X)\n",
    "new_X = temp.toarray()"
   ]
  },
  {
   "cell_type": "code",
   "execution_count": 20,
   "id": "0e60776d",
   "metadata": {
    "ExecuteTime": {
     "end_time": "2022-06-21T12:36:07.214180Z",
     "start_time": "2022-06-21T12:36:06.655743Z"
    }
   },
   "outputs": [],
   "source": [
    "X_train, X_test, y_train, y_test = train_test_split(new_X, y, test_size=0.2, random_state=42)\n",
    "del new_X"
   ]
  },
  {
   "cell_type": "code",
   "execution_count": 21,
   "id": "b5313d2a",
   "metadata": {
    "ExecuteTime": {
     "end_time": "2022-06-21T12:36:07.262179Z",
     "start_time": "2022-06-21T12:36:07.215180Z"
    }
   },
   "outputs": [],
   "source": [
    "model2 = build_model(vocab_size, embedding_dim, 37303)"
   ]
  },
  {
   "cell_type": "code",
   "execution_count": 22,
   "id": "f75c6455",
   "metadata": {
    "ExecuteTime": {
     "end_time": "2022-06-21T12:36:07.294176Z",
     "start_time": "2022-06-21T12:36:07.263179Z"
    }
   },
   "outputs": [
    {
     "name": "stdout",
     "output_type": "stream",
     "text": [
      "Model: \"sequential_1\"\n",
      "_________________________________________________________________\n",
      " Layer (type)                Output Shape              Param #   \n",
      "=================================================================\n",
      " embedding_1 (Embedding)     (None, 37303, 16)         16000     \n",
      "                                                                 \n",
      " flatten_1 (Flatten)         (None, 596848)            0         \n",
      "                                                                 \n",
      " dense_2 (Dense)             (None, 6)                 3581094   \n",
      "                                                                 \n",
      " dense_3 (Dense)             (None, 1)                 7         \n",
      "                                                                 \n",
      "=================================================================\n",
      "Total params: 3,597,101\n",
      "Trainable params: 3,597,101\n",
      "Non-trainable params: 0\n",
      "_________________________________________________________________\n"
     ]
    }
   ],
   "source": [
    "model2.compile(loss='binary_crossentropy',optimizer=tf.keras.optimizers.Adam(),metrics=['accuracy', f1_metric])\n",
    "model2.summary()"
   ]
  },
  {
   "cell_type": "code",
   "execution_count": 23,
   "id": "d31f0566",
   "metadata": {
    "ExecuteTime": {
     "end_time": "2022-06-21T12:37:11.627510Z",
     "start_time": "2022-06-21T12:36:07.296181Z"
    }
   },
   "outputs": [
    {
     "name": "stdout",
     "output_type": "stream",
     "text": [
      "\n",
      "Epoch 1: LearningRateScheduler setting learning rate to 0.0010000000474974513.\n",
      "Epoch 1/20\n",
      "573/573 [==============================] - 16s 28ms/step - loss: 0.6556 - accuracy: 0.7608 - f1_metric: 0.0037 - val_loss: 0.6111 - val_accuracy: 0.7469 - val_f1_metric: 0.0000e+00 - lr: 0.0010\n",
      "\n",
      "Epoch 2: LearningRateScheduler setting learning rate to 0.0010000000474974513.\n",
      "Epoch 2/20\n",
      "573/573 [==============================] - 16s 28ms/step - loss: 0.5814 - accuracy: 0.7647 - f1_metric: 0.0000e+00 - val_loss: 0.5782 - val_accuracy: 0.7469 - val_f1_metric: 0.0000e+00 - lr: 0.0010\n",
      "\n",
      "Epoch 3: LearningRateScheduler setting learning rate to 0.0010000000474974513.\n",
      "Epoch 3/20\n",
      "573/573 [==============================] - 16s 28ms/step - loss: 0.5576 - accuracy: 0.7647 - f1_metric: 0.0000e+00 - val_loss: 0.5683 - val_accuracy: 0.7469 - val_f1_metric: 0.0000e+00 - lr: 0.0010\n",
      "\n",
      "Epoch 4: LearningRateScheduler setting learning rate to 0.0010000000474974513.\n",
      "Epoch 4/20\n",
      "573/573 [==============================] - 16s 28ms/step - loss: 0.5493 - accuracy: 0.7647 - f1_metric: 0.0000e+00 - val_loss: 0.5658 - val_accuracy: 0.7469 - val_f1_metric: 0.0000e+00 - lr: 0.0010\n"
     ]
    }
   ],
   "source": [
    "history2=model2.fit(X_train, y_train, epochs=20, validation_data=(X_test, y_test), callbacks=callbacks, batch_size=8)"
   ]
  },
  {
   "cell_type": "code",
   "execution_count": null,
   "id": "7fe179d7",
   "metadata": {},
   "outputs": [],
   "source": []
  }
 ],
 "metadata": {
  "kernelspec": {
   "display_name": "Python 3 (ipykernel)",
   "language": "python",
   "name": "python3"
  },
  "language_info": {
   "codemirror_mode": {
    "name": "ipython",
    "version": 3
   },
   "file_extension": ".py",
   "mimetype": "text/x-python",
   "name": "python",
   "nbconvert_exporter": "python",
   "pygments_lexer": "ipython3",
   "version": "3.7.0"
  },
  "latex_envs": {
   "LaTeX_envs_menu_present": true,
   "autoclose": false,
   "autocomplete": true,
   "bibliofile": "biblio.bib",
   "cite_by": "apalike",
   "current_citInitial": 1,
   "eqLabelWithNumbers": true,
   "eqNumInitial": 1,
   "hotkeys": {
    "equation": "Ctrl-E",
    "itemize": "Ctrl-I"
   },
   "labels_anchors": false,
   "latex_user_defs": false,
   "report_style_numbering": false,
   "user_envs_cfg": false
  }
 },
 "nbformat": 4,
 "nbformat_minor": 5
}
